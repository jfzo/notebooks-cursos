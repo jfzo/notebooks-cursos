{
  "nbformat": 4,
  "nbformat_minor": 0,
  "metadata": {
    "colab": {
      "name": "usando_pandas.ipynb",
      "version": "0.3.2",
      "provenance": [],
      "collapsed_sections": [],
      "include_colab_link": true
    },
    "kernelspec": {
      "name": "python3",
      "display_name": "Python 3"
    }
  },
  "cells": [
    {
      "cell_type": "markdown",
      "metadata": {
        "id": "view-in-github",
        "colab_type": "text"
      },
      "source": [
        "<a href=\"https://colab.research.google.com/github/jfzo/notebooks-cursos/blob/master/usando_pandas.ipynb\" target=\"_parent\"><img src=\"https://colab.research.google.com/assets/colab-badge.svg\" alt=\"Open In Colab\"/></a>"
      ]
    },
    {
      "cell_type": "markdown",
      "metadata": {
        "id": "bfDEQtbY-ofh",
        "colab_type": "text"
      },
      "source": [
        "# Manejo de datos con Python y Pandas\n",
        "\n",
        "En esta primera parte del módulo, trabajaremos con el siguiente conjunto de datos:\n",
        "\n",
        "![Online retail](https://archive.ics.uci.edu/ml/datasets/Online%20Retail)\n",
        "\n",
        "Citando la descripción original:\n",
        "\n",
        "**Data Set Information:**\n",
        "\n",
        "This is a transnational data set which contains all the transactions occurring between 01/12/2010 and 09/12/2011 for a UK-based and registered non-store online retail.The company mainly sells unique all-occasion gifts. Many customers of the company are wholesalers.\n",
        "\n",
        "**Attribute Information:**\n",
        "\n",
        "| Campo | Descripción |\n",
        "|------|-----|\n",
        "| InvoiceNo: | Invoice number. Nominal, a 6-digit integral number uniquely assigned to each transaction. If this code starts with letter **'c'**, it indicates a cancellation.|\n",
        "|StockCode: | Product (item) code. Nominal, a 5-digit integral number uniquely assigned to each distinct product.|\n",
        "|Description: | Product (item) name. Nominal.|\n",
        "|Quantity: | The quantities of each product (item) per transaction. Numeric.|\n",
        "|InvoiceDate: | Invice Date and time. Numeric, the day and time when each transaction was generated.|\n",
        "|UnitPrice: | Unit price. Numeric, Product price per unit in sterling.|\n",
        "|CustomerID: | Customer number. Nominal, a 5-digit integral number uniquely assigned to each customer.|\n",
        "|Country: | Country name. Nominal, the name of the country where each customer resides. |\n"
      ]
    },
    {
      "cell_type": "code",
      "metadata": {
        "id": "347p4vYCilr6",
        "colab_type": "code",
        "colab": {}
      },
      "source": [
        "#@title Acceso a librería Pandas\n",
        "import pandas as pd"
      ],
      "execution_count": 0,
      "outputs": []
    },
    {
      "cell_type": "markdown",
      "metadata": {
        "id": "PMbDyhqdADX3",
        "colab_type": "text"
      },
      "source": [
        "Es posible cargar la data en un Dataframe a partir de la URL del repositorio:"
      ]
    },
    {
      "cell_type": "code",
      "metadata": {
        "id": "HMeF_xgo9Fxc",
        "colab_type": "code",
        "outputId": "ecc1c71a-5f31-48d6-b6e8-744f48d9c9cb",
        "colab": {
          "base_uri": "https://localhost:8080/",
          "height": 206
        }
      },
      "source": [
        "df = pd.read_excel('http://archive.ics.uci.edu/ml/machine-learning-databases/00352/Online%20Retail.xlsx')\n",
        "df.head()"
      ],
      "execution_count": 0,
      "outputs": [
        {
          "output_type": "execute_result",
          "data": {
            "text/html": [
              "<div>\n",
              "<style scoped>\n",
              "    .dataframe tbody tr th:only-of-type {\n",
              "        vertical-align: middle;\n",
              "    }\n",
              "\n",
              "    .dataframe tbody tr th {\n",
              "        vertical-align: top;\n",
              "    }\n",
              "\n",
              "    .dataframe thead th {\n",
              "        text-align: right;\n",
              "    }\n",
              "</style>\n",
              "<table border=\"1\" class=\"dataframe\">\n",
              "  <thead>\n",
              "    <tr style=\"text-align: right;\">\n",
              "      <th></th>\n",
              "      <th>InvoiceNo</th>\n",
              "      <th>StockCode</th>\n",
              "      <th>Description</th>\n",
              "      <th>Quantity</th>\n",
              "      <th>InvoiceDate</th>\n",
              "      <th>UnitPrice</th>\n",
              "      <th>CustomerID</th>\n",
              "      <th>Country</th>\n",
              "    </tr>\n",
              "  </thead>\n",
              "  <tbody>\n",
              "    <tr>\n",
              "      <th>0</th>\n",
              "      <td>536365</td>\n",
              "      <td>85123A</td>\n",
              "      <td>WHITE HANGING HEART T-LIGHT HOLDER</td>\n",
              "      <td>6</td>\n",
              "      <td>2010-12-01 08:26:00</td>\n",
              "      <td>2.55</td>\n",
              "      <td>17850.0</td>\n",
              "      <td>United Kingdom</td>\n",
              "    </tr>\n",
              "    <tr>\n",
              "      <th>1</th>\n",
              "      <td>536365</td>\n",
              "      <td>71053</td>\n",
              "      <td>WHITE METAL LANTERN</td>\n",
              "      <td>6</td>\n",
              "      <td>2010-12-01 08:26:00</td>\n",
              "      <td>3.39</td>\n",
              "      <td>17850.0</td>\n",
              "      <td>United Kingdom</td>\n",
              "    </tr>\n",
              "    <tr>\n",
              "      <th>2</th>\n",
              "      <td>536365</td>\n",
              "      <td>84406B</td>\n",
              "      <td>CREAM CUPID HEARTS COAT HANGER</td>\n",
              "      <td>8</td>\n",
              "      <td>2010-12-01 08:26:00</td>\n",
              "      <td>2.75</td>\n",
              "      <td>17850.0</td>\n",
              "      <td>United Kingdom</td>\n",
              "    </tr>\n",
              "    <tr>\n",
              "      <th>3</th>\n",
              "      <td>536365</td>\n",
              "      <td>84029G</td>\n",
              "      <td>KNITTED UNION FLAG HOT WATER BOTTLE</td>\n",
              "      <td>6</td>\n",
              "      <td>2010-12-01 08:26:00</td>\n",
              "      <td>3.39</td>\n",
              "      <td>17850.0</td>\n",
              "      <td>United Kingdom</td>\n",
              "    </tr>\n",
              "    <tr>\n",
              "      <th>4</th>\n",
              "      <td>536365</td>\n",
              "      <td>84029E</td>\n",
              "      <td>RED WOOLLY HOTTIE WHITE HEART.</td>\n",
              "      <td>6</td>\n",
              "      <td>2010-12-01 08:26:00</td>\n",
              "      <td>3.39</td>\n",
              "      <td>17850.0</td>\n",
              "      <td>United Kingdom</td>\n",
              "    </tr>\n",
              "  </tbody>\n",
              "</table>\n",
              "</div>"
            ],
            "text/plain": [
              "  InvoiceNo StockCode  ... CustomerID         Country\n",
              "0    536365    85123A  ...    17850.0  United Kingdom\n",
              "1    536365     71053  ...    17850.0  United Kingdom\n",
              "2    536365    84406B  ...    17850.0  United Kingdom\n",
              "3    536365    84029G  ...    17850.0  United Kingdom\n",
              "4    536365    84029E  ...    17850.0  United Kingdom\n",
              "\n",
              "[5 rows x 8 columns]"
            ]
          },
          "metadata": {
            "tags": []
          },
          "execution_count": 25
        }
      ]
    },
    {
      "cell_type": "code",
      "metadata": {
        "id": "KyMmiUy-g95Z",
        "colab_type": "code",
        "outputId": "42790769-caf3-4b09-c597-25aa18986bdd",
        "colab": {
          "base_uri": "https://localhost:8080/",
          "height": 310
        }
      },
      "source": [
        "from google.colab import drive\n",
        "drive.mount('/content/gdrive')\n",
        "\n",
        "df.to_excel('/content/gdrive/My Drive/Colab Notebooks/online_retail.xlsx')"
      ],
      "execution_count": 0,
      "outputs": [
        {
          "output_type": "execute_result",
          "data": {
            "text/html": [
              "<div>\n",
              "<style scoped>\n",
              "    .dataframe tbody tr th:only-of-type {\n",
              "        vertical-align: middle;\n",
              "    }\n",
              "\n",
              "    .dataframe tbody tr th {\n",
              "        vertical-align: top;\n",
              "    }\n",
              "\n",
              "    .dataframe thead th {\n",
              "        text-align: right;\n",
              "    }\n",
              "</style>\n",
              "<table border=\"1\" class=\"dataframe\">\n",
              "  <thead>\n",
              "    <tr style=\"text-align: right;\">\n",
              "      <th></th>\n",
              "      <th>Unnamed: 0</th>\n",
              "      <th>InvoiceNo</th>\n",
              "      <th>StockCode</th>\n",
              "      <th>Description</th>\n",
              "      <th>Quantity</th>\n",
              "      <th>InvoiceDate</th>\n",
              "      <th>UnitPrice</th>\n",
              "      <th>CustomerID</th>\n",
              "      <th>Country</th>\n",
              "    </tr>\n",
              "  </thead>\n",
              "  <tbody>\n",
              "    <tr>\n",
              "      <th>0</th>\n",
              "      <td>0</td>\n",
              "      <td>536365</td>\n",
              "      <td>85123A</td>\n",
              "      <td>WHITE HANGING HEART T-LIGHT HOLDER</td>\n",
              "      <td>6</td>\n",
              "      <td>2010-12-01 08:26:00</td>\n",
              "      <td>2.55</td>\n",
              "      <td>17850.0</td>\n",
              "      <td>United Kingdom</td>\n",
              "    </tr>\n",
              "    <tr>\n",
              "      <th>1</th>\n",
              "      <td>1</td>\n",
              "      <td>536365</td>\n",
              "      <td>71053</td>\n",
              "      <td>WHITE METAL LANTERN</td>\n",
              "      <td>6</td>\n",
              "      <td>2010-12-01 08:26:00</td>\n",
              "      <td>3.39</td>\n",
              "      <td>17850.0</td>\n",
              "      <td>United Kingdom</td>\n",
              "    </tr>\n",
              "    <tr>\n",
              "      <th>2</th>\n",
              "      <td>2</td>\n",
              "      <td>536365</td>\n",
              "      <td>84406B</td>\n",
              "      <td>CREAM CUPID HEARTS COAT HANGER</td>\n",
              "      <td>8</td>\n",
              "      <td>2010-12-01 08:26:00</td>\n",
              "      <td>2.75</td>\n",
              "      <td>17850.0</td>\n",
              "      <td>United Kingdom</td>\n",
              "    </tr>\n",
              "    <tr>\n",
              "      <th>3</th>\n",
              "      <td>3</td>\n",
              "      <td>536365</td>\n",
              "      <td>84029G</td>\n",
              "      <td>KNITTED UNION FLAG HOT WATER BOTTLE</td>\n",
              "      <td>6</td>\n",
              "      <td>2010-12-01 08:26:00</td>\n",
              "      <td>3.39</td>\n",
              "      <td>17850.0</td>\n",
              "      <td>United Kingdom</td>\n",
              "    </tr>\n",
              "    <tr>\n",
              "      <th>4</th>\n",
              "      <td>4</td>\n",
              "      <td>536365</td>\n",
              "      <td>84029E</td>\n",
              "      <td>RED WOOLLY HOTTIE WHITE HEART.</td>\n",
              "      <td>6</td>\n",
              "      <td>2010-12-01 08:26:00</td>\n",
              "      <td>3.39</td>\n",
              "      <td>17850.0</td>\n",
              "      <td>United Kingdom</td>\n",
              "    </tr>\n",
              "  </tbody>\n",
              "</table>\n",
              "</div>"
            ],
            "text/plain": [
              "   Unnamed: 0 InvoiceNo StockCode  ... UnitPrice  CustomerID         Country\n",
              "0           0    536365    85123A  ...      2.55     17850.0  United Kingdom\n",
              "1           1    536365     71053  ...      3.39     17850.0  United Kingdom\n",
              "2           2    536365    84406B  ...      2.75     17850.0  United Kingdom\n",
              "3           3    536365    84029G  ...      3.39     17850.0  United Kingdom\n",
              "4           4    536365    84029E  ...      3.39     17850.0  United Kingdom\n",
              "\n",
              "[5 rows x 9 columns]"
            ]
          },
          "metadata": {
            "tags": []
          },
          "execution_count": 34
        }
      ]
    },
    {
      "cell_type": "markdown",
      "metadata": {
        "id": "P1zclp_-AWTD",
        "colab_type": "text"
      },
      "source": [
        "---\n",
        "\n",
        "También es posible cargar desde Google Drive. Las primeras dos líneas comentadas corresponden a las sentencias usadas para conectarse a su cuenta de Google Drive:"
      ]
    },
    {
      "cell_type": "code",
      "metadata": {
        "id": "T6yE0jHj6_1N",
        "colab_type": "code",
        "colab": {}
      },
      "source": [
        "from google.colab import drive\n",
        "drive.mount('/content/gdrive')\n",
        "\n",
        "df = pd.read_excel('/content/gdrive/My Drive/Colab Notebooks/online_retail.xlsx', index_col=\"InvoiceDate\")\n",
        "#df.head()"
      ],
      "execution_count": 0,
      "outputs": []
    },
    {
      "cell_type": "markdown",
      "metadata": {
        "id": "xgyo5qQSDpQw",
        "colab_type": "text"
      },
      "source": [
        "Podemos averiguar el tamaño del dataframe con su propiedad ```.shape```\n",
        "\n"
      ]
    },
    {
      "cell_type": "code",
      "metadata": {
        "id": "k3brCMswB7dX",
        "colab_type": "code",
        "outputId": "f74a81cd-1d09-41f3-bb35-d0fd74bdc0a0",
        "colab": {
          "base_uri": "https://localhost:8080/",
          "height": 35
        }
      },
      "source": [
        "df.shape"
      ],
      "execution_count": 0,
      "outputs": [
        {
          "output_type": "execute_result",
          "data": {
            "text/plain": [
              "(541909, 9)"
            ]
          },
          "metadata": {
            "tags": []
          },
          "execution_count": 5
        }
      ]
    },
    {
      "cell_type": "markdown",
      "metadata": {
        "id": "7fkEKzt0kdO_",
        "colab_type": "text"
      },
      "source": [
        "Podemos averiguar el detalle de cada columna del dataframe con su método interno ```.info()```\n"
      ]
    },
    {
      "cell_type": "code",
      "metadata": {
        "id": "6OL2yp9P3omK",
        "colab_type": "code",
        "outputId": "2f279264-e811-4514-8919-196042a3ca15",
        "colab": {
          "base_uri": "https://localhost:8080/",
          "height": 271
        }
      },
      "source": [
        "df.info()"
      ],
      "execution_count": 0,
      "outputs": [
        {
          "output_type": "stream",
          "text": [
            "<class 'pandas.core.frame.DataFrame'>\n",
            "Int64Index: 532621 entries, 0 to 541908\n",
            "Data columns (total 9 columns):\n",
            "Unnamed: 0     532621 non-null int64\n",
            "InvoiceNo      532621 non-null object\n",
            "StockCode      532621 non-null object\n",
            "Description    531166 non-null object\n",
            "Quantity       532621 non-null int64\n",
            "InvoiceDate    532621 non-null datetime64[ns]\n",
            "UnitPrice      532621 non-null float64\n",
            "CustomerID     397924 non-null float64\n",
            "Country        532621 non-null object\n",
            "dtypes: datetime64[ns](1), float64(2), int64(2), object(4)\n",
            "memory usage: 40.6+ MB\n"
          ],
          "name": "stdout"
        }
      ]
    },
    {
      "cell_type": "markdown",
      "metadata": {
        "id": "4o5K7xSwko7q",
        "colab_type": "text"
      },
      "source": [
        ""
      ]
    },
    {
      "cell_type": "code",
      "metadata": {
        "id": "0MuJgl_ODk4S",
        "colab_type": "code",
        "outputId": "d827b57c-00fa-48e2-afe6-fec22fef141d",
        "colab": {
          "base_uri": "https://localhost:8080/",
          "height": 300
        }
      },
      "source": [
        "df.describe()"
      ],
      "execution_count": 0,
      "outputs": [
        {
          "output_type": "execute_result",
          "data": {
            "text/html": [
              "<div>\n",
              "<style scoped>\n",
              "    .dataframe tbody tr th:only-of-type {\n",
              "        vertical-align: middle;\n",
              "    }\n",
              "\n",
              "    .dataframe tbody tr th {\n",
              "        vertical-align: top;\n",
              "    }\n",
              "\n",
              "    .dataframe thead th {\n",
              "        text-align: right;\n",
              "    }\n",
              "</style>\n",
              "<table border=\"1\" class=\"dataframe\">\n",
              "  <thead>\n",
              "    <tr style=\"text-align: right;\">\n",
              "      <th></th>\n",
              "      <th>Unnamed: 0</th>\n",
              "      <th>Quantity</th>\n",
              "      <th>UnitPrice</th>\n",
              "      <th>CustomerID</th>\n",
              "    </tr>\n",
              "  </thead>\n",
              "  <tbody>\n",
              "    <tr>\n",
              "      <th>count</th>\n",
              "      <td>532621.000000</td>\n",
              "      <td>532621.000000</td>\n",
              "      <td>532621.000000</td>\n",
              "      <td>397924.000000</td>\n",
              "    </tr>\n",
              "    <tr>\n",
              "      <th>mean</th>\n",
              "      <td>271182.113612</td>\n",
              "      <td>10.239972</td>\n",
              "      <td>3.847621</td>\n",
              "      <td>15294.315171</td>\n",
              "    </tr>\n",
              "    <tr>\n",
              "      <th>std</th>\n",
              "      <td>156533.716737</td>\n",
              "      <td>159.593551</td>\n",
              "      <td>41.758023</td>\n",
              "      <td>1713.169877</td>\n",
              "    </tr>\n",
              "    <tr>\n",
              "      <th>min</th>\n",
              "      <td>0.000000</td>\n",
              "      <td>-9600.000000</td>\n",
              "      <td>-11062.060000</td>\n",
              "      <td>12346.000000</td>\n",
              "    </tr>\n",
              "    <tr>\n",
              "      <th>25%</th>\n",
              "      <td>135604.000000</td>\n",
              "      <td>1.000000</td>\n",
              "      <td>1.250000</td>\n",
              "      <td>13969.000000</td>\n",
              "    </tr>\n",
              "    <tr>\n",
              "      <th>50%</th>\n",
              "      <td>271292.000000</td>\n",
              "      <td>3.000000</td>\n",
              "      <td>2.080000</td>\n",
              "      <td>15159.000000</td>\n",
              "    </tr>\n",
              "    <tr>\n",
              "      <th>75%</th>\n",
              "      <td>406975.000000</td>\n",
              "      <td>10.000000</td>\n",
              "      <td>4.130000</td>\n",
              "      <td>16795.000000</td>\n",
              "    </tr>\n",
              "    <tr>\n",
              "      <th>max</th>\n",
              "      <td>541908.000000</td>\n",
              "      <td>80995.000000</td>\n",
              "      <td>13541.330000</td>\n",
              "      <td>18287.000000</td>\n",
              "    </tr>\n",
              "  </tbody>\n",
              "</table>\n",
              "</div>"
            ],
            "text/plain": [
              "          Unnamed: 0       Quantity      UnitPrice     CustomerID\n",
              "count  532621.000000  532621.000000  532621.000000  397924.000000\n",
              "mean   271182.113612      10.239972       3.847621   15294.315171\n",
              "std    156533.716737     159.593551      41.758023    1713.169877\n",
              "min         0.000000   -9600.000000  -11062.060000   12346.000000\n",
              "25%    135604.000000       1.000000       1.250000   13969.000000\n",
              "50%    271292.000000       3.000000       2.080000   15159.000000\n",
              "75%    406975.000000      10.000000       4.130000   16795.000000\n",
              "max    541908.000000   80995.000000   13541.330000   18287.000000"
            ]
          },
          "metadata": {
            "tags": []
          },
          "execution_count": 60
        }
      ]
    },
    {
      "cell_type": "code",
      "metadata": {
        "id": "vbWg-s1YD-4d",
        "colab_type": "code",
        "outputId": "874538a9-6a2f-4b3e-fbd1-72313e7c4c62",
        "colab": {
          "base_uri": "https://localhost:8080/",
          "height": 491
        }
      },
      "source": [
        "#@title Visualización de los primeros 8 registros del dataframe\n",
        "df.head(8)"
      ],
      "execution_count": 0,
      "outputs": [
        {
          "output_type": "execute_result",
          "data": {
            "text/html": [
              "<div>\n",
              "<style scoped>\n",
              "    .dataframe tbody tr th:only-of-type {\n",
              "        vertical-align: middle;\n",
              "    }\n",
              "\n",
              "    .dataframe tbody tr th {\n",
              "        vertical-align: top;\n",
              "    }\n",
              "\n",
              "    .dataframe thead th {\n",
              "        text-align: right;\n",
              "    }\n",
              "</style>\n",
              "<table border=\"1\" class=\"dataframe\">\n",
              "  <thead>\n",
              "    <tr style=\"text-align: right;\">\n",
              "      <th></th>\n",
              "      <th>Unnamed: 0</th>\n",
              "      <th>InvoiceNo</th>\n",
              "      <th>StockCode</th>\n",
              "      <th>Description</th>\n",
              "      <th>Quantity</th>\n",
              "      <th>InvoiceDate</th>\n",
              "      <th>UnitPrice</th>\n",
              "      <th>CustomerID</th>\n",
              "      <th>Country</th>\n",
              "    </tr>\n",
              "  </thead>\n",
              "  <tbody>\n",
              "    <tr>\n",
              "      <th>0</th>\n",
              "      <td>0</td>\n",
              "      <td>536365</td>\n",
              "      <td>85123A</td>\n",
              "      <td>WHITE HANGING HEART T-LIGHT HOLDER</td>\n",
              "      <td>6</td>\n",
              "      <td>2010-12-01 08:26:00</td>\n",
              "      <td>2.55</td>\n",
              "      <td>17850.0</td>\n",
              "      <td>United Kingdom</td>\n",
              "    </tr>\n",
              "    <tr>\n",
              "      <th>1</th>\n",
              "      <td>1</td>\n",
              "      <td>536365</td>\n",
              "      <td>71053</td>\n",
              "      <td>WHITE METAL LANTERN</td>\n",
              "      <td>6</td>\n",
              "      <td>2010-12-01 08:26:00</td>\n",
              "      <td>3.39</td>\n",
              "      <td>17850.0</td>\n",
              "      <td>United Kingdom</td>\n",
              "    </tr>\n",
              "    <tr>\n",
              "      <th>2</th>\n",
              "      <td>2</td>\n",
              "      <td>536365</td>\n",
              "      <td>84406B</td>\n",
              "      <td>CREAM CUPID HEARTS COAT HANGER</td>\n",
              "      <td>8</td>\n",
              "      <td>2010-12-01 08:26:00</td>\n",
              "      <td>2.75</td>\n",
              "      <td>17850.0</td>\n",
              "      <td>United Kingdom</td>\n",
              "    </tr>\n",
              "    <tr>\n",
              "      <th>3</th>\n",
              "      <td>3</td>\n",
              "      <td>536365</td>\n",
              "      <td>84029G</td>\n",
              "      <td>KNITTED UNION FLAG HOT WATER BOTTLE</td>\n",
              "      <td>6</td>\n",
              "      <td>2010-12-01 08:26:00</td>\n",
              "      <td>3.39</td>\n",
              "      <td>17850.0</td>\n",
              "      <td>United Kingdom</td>\n",
              "    </tr>\n",
              "    <tr>\n",
              "      <th>4</th>\n",
              "      <td>4</td>\n",
              "      <td>536365</td>\n",
              "      <td>84029E</td>\n",
              "      <td>RED WOOLLY HOTTIE WHITE HEART.</td>\n",
              "      <td>6</td>\n",
              "      <td>2010-12-01 08:26:00</td>\n",
              "      <td>3.39</td>\n",
              "      <td>17850.0</td>\n",
              "      <td>United Kingdom</td>\n",
              "    </tr>\n",
              "    <tr>\n",
              "      <th>5</th>\n",
              "      <td>5</td>\n",
              "      <td>536365</td>\n",
              "      <td>22752</td>\n",
              "      <td>SET 7 BABUSHKA NESTING BOXES</td>\n",
              "      <td>2</td>\n",
              "      <td>2010-12-01 08:26:00</td>\n",
              "      <td>7.65</td>\n",
              "      <td>17850.0</td>\n",
              "      <td>United Kingdom</td>\n",
              "    </tr>\n",
              "    <tr>\n",
              "      <th>6</th>\n",
              "      <td>6</td>\n",
              "      <td>536365</td>\n",
              "      <td>21730</td>\n",
              "      <td>GLASS STAR FROSTED T-LIGHT HOLDER</td>\n",
              "      <td>6</td>\n",
              "      <td>2010-12-01 08:26:00</td>\n",
              "      <td>4.25</td>\n",
              "      <td>17850.0</td>\n",
              "      <td>United Kingdom</td>\n",
              "    </tr>\n",
              "    <tr>\n",
              "      <th>7</th>\n",
              "      <td>7</td>\n",
              "      <td>536366</td>\n",
              "      <td>22633</td>\n",
              "      <td>HAND WARMER UNION JACK</td>\n",
              "      <td>6</td>\n",
              "      <td>2010-12-01 08:28:00</td>\n",
              "      <td>1.85</td>\n",
              "      <td>17850.0</td>\n",
              "      <td>United Kingdom</td>\n",
              "    </tr>\n",
              "  </tbody>\n",
              "</table>\n",
              "</div>"
            ],
            "text/plain": [
              "   Unnamed: 0 InvoiceNo StockCode  ... UnitPrice  CustomerID         Country\n",
              "0           0    536365    85123A  ...      2.55     17850.0  United Kingdom\n",
              "1           1    536365     71053  ...      3.39     17850.0  United Kingdom\n",
              "2           2    536365    84406B  ...      2.75     17850.0  United Kingdom\n",
              "3           3    536365    84029G  ...      3.39     17850.0  United Kingdom\n",
              "4           4    536365    84029E  ...      3.39     17850.0  United Kingdom\n",
              "5           5    536365     22752  ...      7.65     17850.0  United Kingdom\n",
              "6           6    536365     21730  ...      4.25     17850.0  United Kingdom\n",
              "7           7    536366     22633  ...      1.85     17850.0  United Kingdom\n",
              "\n",
              "[8 rows x 9 columns]"
            ]
          },
          "metadata": {
            "tags": []
          },
          "execution_count": 4
        }
      ]
    },
    {
      "cell_type": "code",
      "metadata": {
        "id": "zzuhXdrQGB8D",
        "colab_type": "code",
        "outputId": "9b197123-0ece-46dc-c73a-e74f992f757b",
        "colab": {
          "base_uri": "https://localhost:8080/",
          "height": 300
        }
      },
      "source": [
        "#@title Ordenamiento de los registros según columna *Descripción* \n",
        "df['Description'] = df['Description'].str.strip()\n",
        "df.sort_values(by='Description', ascending=True).head(8)"
      ],
      "execution_count": 0,
      "outputs": [
        {
          "output_type": "execute_result",
          "data": {
            "text/html": [
              "<div>\n",
              "<style scoped>\n",
              "    .dataframe tbody tr th:only-of-type {\n",
              "        vertical-align: middle;\n",
              "    }\n",
              "\n",
              "    .dataframe tbody tr th {\n",
              "        vertical-align: top;\n",
              "    }\n",
              "\n",
              "    .dataframe thead th {\n",
              "        text-align: right;\n",
              "    }\n",
              "</style>\n",
              "<table border=\"1\" class=\"dataframe\">\n",
              "  <thead>\n",
              "    <tr style=\"text-align: right;\">\n",
              "      <th></th>\n",
              "      <th>Unnamed: 0</th>\n",
              "      <th>InvoiceNo</th>\n",
              "      <th>StockCode</th>\n",
              "      <th>Description</th>\n",
              "      <th>Quantity</th>\n",
              "      <th>InvoiceDate</th>\n",
              "      <th>UnitPrice</th>\n",
              "      <th>CustomerID</th>\n",
              "      <th>Country</th>\n",
              "    </tr>\n",
              "  </thead>\n",
              "  <tbody>\n",
              "    <tr>\n",
              "      <th>20749</th>\n",
              "      <td>20749</td>\n",
              "      <td>538071</td>\n",
              "      <td>21120</td>\n",
              "      <td>*Boombox Ipod Classic</td>\n",
              "      <td>1</td>\n",
              "      <td>2010-12-09 14:09:00</td>\n",
              "      <td>16.98</td>\n",
              "      <td>NaN</td>\n",
              "      <td>United Kingdom</td>\n",
              "    </tr>\n",
              "    <tr>\n",
              "      <th>35675</th>\n",
              "      <td>35675</td>\n",
              "      <td>539437</td>\n",
              "      <td>20954</td>\n",
              "      <td>*USB Office Mirror Ball</td>\n",
              "      <td>1</td>\n",
              "      <td>2010-12-17 14:54:00</td>\n",
              "      <td>8.47</td>\n",
              "      <td>NaN</td>\n",
              "      <td>United Kingdom</td>\n",
              "    </tr>\n",
              "    <tr>\n",
              "      <th>37095</th>\n",
              "      <td>37095</td>\n",
              "      <td>539453</td>\n",
              "      <td>20954</td>\n",
              "      <td>*USB Office Mirror Ball</td>\n",
              "      <td>1</td>\n",
              "      <td>2010-12-17 17:08:00</td>\n",
              "      <td>8.47</td>\n",
              "      <td>NaN</td>\n",
              "      <td>United Kingdom</td>\n",
              "    </tr>\n",
              "    <tr>\n",
              "      <th>394482</th>\n",
              "      <td>394482</td>\n",
              "      <td>570872</td>\n",
              "      <td>22418</td>\n",
              "      <td>10 COLOUR SPACEBOY PEN</td>\n",
              "      <td>1</td>\n",
              "      <td>2011-10-12 16:40:00</td>\n",
              "      <td>1.63</td>\n",
              "      <td>NaN</td>\n",
              "      <td>United Kingdom</td>\n",
              "    </tr>\n",
              "    <tr>\n",
              "      <th>381759</th>\n",
              "      <td>381759</td>\n",
              "      <td>569893</td>\n",
              "      <td>22418</td>\n",
              "      <td>10 COLOUR SPACEBOY PEN</td>\n",
              "      <td>24</td>\n",
              "      <td>2011-10-06 15:51:00</td>\n",
              "      <td>0.85</td>\n",
              "      <td>12627.0</td>\n",
              "      <td>Germany</td>\n",
              "    </tr>\n",
              "    <tr>\n",
              "      <th>152701</th>\n",
              "      <td>152701</td>\n",
              "      <td>549682</td>\n",
              "      <td>22418</td>\n",
              "      <td>10 COLOUR SPACEBOY PEN</td>\n",
              "      <td>24</td>\n",
              "      <td>2011-04-11 13:22:00</td>\n",
              "      <td>0.85</td>\n",
              "      <td>12596.0</td>\n",
              "      <td>Spain</td>\n",
              "    </tr>\n",
              "    <tr>\n",
              "      <th>20498</th>\n",
              "      <td>20498</td>\n",
              "      <td>538057</td>\n",
              "      <td>22418</td>\n",
              "      <td>10 COLOUR SPACEBOY PEN</td>\n",
              "      <td>24</td>\n",
              "      <td>2010-12-09 13:38:00</td>\n",
              "      <td>0.85</td>\n",
              "      <td>13102.0</td>\n",
              "      <td>United Kingdom</td>\n",
              "    </tr>\n",
              "    <tr>\n",
              "      <th>470060</th>\n",
              "      <td>470060</td>\n",
              "      <td>576617</td>\n",
              "      <td>22418</td>\n",
              "      <td>10 COLOUR SPACEBOY PEN</td>\n",
              "      <td>2</td>\n",
              "      <td>2011-11-15 16:57:00</td>\n",
              "      <td>1.63</td>\n",
              "      <td>NaN</td>\n",
              "      <td>United Kingdom</td>\n",
              "    </tr>\n",
              "  </tbody>\n",
              "</table>\n",
              "</div>"
            ],
            "text/plain": [
              "        Unnamed: 0 InvoiceNo StockCode  ... UnitPrice  CustomerID         Country\n",
              "20749        20749    538071     21120  ...     16.98         NaN  United Kingdom\n",
              "35675        35675    539437     20954  ...      8.47         NaN  United Kingdom\n",
              "37095        37095    539453     20954  ...      8.47         NaN  United Kingdom\n",
              "394482      394482    570872     22418  ...      1.63         NaN  United Kingdom\n",
              "381759      381759    569893     22418  ...      0.85     12627.0         Germany\n",
              "152701      152701    549682     22418  ...      0.85     12596.0           Spain\n",
              "20498        20498    538057     22418  ...      0.85     13102.0  United Kingdom\n",
              "470060      470060    576617     22418  ...      1.63         NaN  United Kingdom\n",
              "\n",
              "[8 rows x 9 columns]"
            ]
          },
          "metadata": {
            "tags": []
          },
          "execution_count": 11
        }
      ]
    },
    {
      "cell_type": "code",
      "metadata": {
        "id": "V2eYu2tLtlkX",
        "colab_type": "code",
        "outputId": "36b25eae-0e03-44c7-c220-8de5d9e741a1",
        "colab": {
          "base_uri": "https://localhost:8080/",
          "height": 206
        }
      },
      "source": [
        "#@title Considerando únicamente los campos tipo *object*\n",
        "df.select_dtypes(include=['object']).head() #.copy() en lugar de .head() genera una copia del Dataframe"
      ],
      "execution_count": 0,
      "outputs": [
        {
          "output_type": "execute_result",
          "data": {
            "text/html": [
              "<div>\n",
              "<style scoped>\n",
              "    .dataframe tbody tr th:only-of-type {\n",
              "        vertical-align: middle;\n",
              "    }\n",
              "\n",
              "    .dataframe tbody tr th {\n",
              "        vertical-align: top;\n",
              "    }\n",
              "\n",
              "    .dataframe thead th {\n",
              "        text-align: right;\n",
              "    }\n",
              "</style>\n",
              "<table border=\"1\" class=\"dataframe\">\n",
              "  <thead>\n",
              "    <tr style=\"text-align: right;\">\n",
              "      <th></th>\n",
              "      <th>InvoiceNo</th>\n",
              "      <th>StockCode</th>\n",
              "      <th>Description</th>\n",
              "      <th>Country</th>\n",
              "    </tr>\n",
              "  </thead>\n",
              "  <tbody>\n",
              "    <tr>\n",
              "      <th>0</th>\n",
              "      <td>536365</td>\n",
              "      <td>85123A</td>\n",
              "      <td>WHITE HANGING HEART T-LIGHT HOLDER</td>\n",
              "      <td>United Kingdom</td>\n",
              "    </tr>\n",
              "    <tr>\n",
              "      <th>1</th>\n",
              "      <td>536365</td>\n",
              "      <td>71053</td>\n",
              "      <td>WHITE METAL LANTERN</td>\n",
              "      <td>United Kingdom</td>\n",
              "    </tr>\n",
              "    <tr>\n",
              "      <th>2</th>\n",
              "      <td>536365</td>\n",
              "      <td>84406B</td>\n",
              "      <td>CREAM CUPID HEARTS COAT HANGER</td>\n",
              "      <td>United Kingdom</td>\n",
              "    </tr>\n",
              "    <tr>\n",
              "      <th>3</th>\n",
              "      <td>536365</td>\n",
              "      <td>84029G</td>\n",
              "      <td>KNITTED UNION FLAG HOT WATER BOTTLE</td>\n",
              "      <td>United Kingdom</td>\n",
              "    </tr>\n",
              "    <tr>\n",
              "      <th>4</th>\n",
              "      <td>536365</td>\n",
              "      <td>84029E</td>\n",
              "      <td>RED WOOLLY HOTTIE WHITE HEART.</td>\n",
              "      <td>United Kingdom</td>\n",
              "    </tr>\n",
              "  </tbody>\n",
              "</table>\n",
              "</div>"
            ],
            "text/plain": [
              "  InvoiceNo StockCode                          Description         Country\n",
              "0    536365    85123A   WHITE HANGING HEART T-LIGHT HOLDER  United Kingdom\n",
              "1    536365     71053                  WHITE METAL LANTERN  United Kingdom\n",
              "2    536365    84406B       CREAM CUPID HEARTS COAT HANGER  United Kingdom\n",
              "3    536365    84029G  KNITTED UNION FLAG HOT WATER BOTTLE  United Kingdom\n",
              "4    536365    84029E       RED WOOLLY HOTTIE WHITE HEART.  United Kingdom"
            ]
          },
          "metadata": {
            "tags": []
          },
          "execution_count": 16
        }
      ]
    },
    {
      "cell_type": "code",
      "metadata": {
        "id": "Ey-mf28X68H9",
        "colab_type": "code",
        "outputId": "e011d8c0-d609-4014-cc61-37df0c3922fa",
        "colab": {
          "base_uri": "https://localhost:8080/",
          "height": 310
        }
      },
      "source": [
        "#@title Considerando solo aquellas filas cuya columna *Country* coincida con *France*:\n",
        "df[df[\"Country\"] == \"France\"].head()"
      ],
      "execution_count": 0,
      "outputs": [
        {
          "output_type": "execute_result",
          "data": {
            "text/html": [
              "<div>\n",
              "<style scoped>\n",
              "    .dataframe tbody tr th:only-of-type {\n",
              "        vertical-align: middle;\n",
              "    }\n",
              "\n",
              "    .dataframe tbody tr th {\n",
              "        vertical-align: top;\n",
              "    }\n",
              "\n",
              "    .dataframe thead th {\n",
              "        text-align: right;\n",
              "    }\n",
              "</style>\n",
              "<table border=\"1\" class=\"dataframe\">\n",
              "  <thead>\n",
              "    <tr style=\"text-align: right;\">\n",
              "      <th></th>\n",
              "      <th>Unnamed: 0</th>\n",
              "      <th>InvoiceNo</th>\n",
              "      <th>StockCode</th>\n",
              "      <th>Description</th>\n",
              "      <th>Quantity</th>\n",
              "      <th>InvoiceDate</th>\n",
              "      <th>UnitPrice</th>\n",
              "      <th>CustomerID</th>\n",
              "      <th>Country</th>\n",
              "    </tr>\n",
              "  </thead>\n",
              "  <tbody>\n",
              "    <tr>\n",
              "      <th>26</th>\n",
              "      <td>26</td>\n",
              "      <td>536370</td>\n",
              "      <td>22728</td>\n",
              "      <td>ALARM CLOCK BAKELIKE PINK</td>\n",
              "      <td>24</td>\n",
              "      <td>2010-12-01 08:45:00</td>\n",
              "      <td>3.75</td>\n",
              "      <td>12583.0</td>\n",
              "      <td>France</td>\n",
              "    </tr>\n",
              "    <tr>\n",
              "      <th>27</th>\n",
              "      <td>27</td>\n",
              "      <td>536370</td>\n",
              "      <td>22727</td>\n",
              "      <td>ALARM CLOCK BAKELIKE RED</td>\n",
              "      <td>24</td>\n",
              "      <td>2010-12-01 08:45:00</td>\n",
              "      <td>3.75</td>\n",
              "      <td>12583.0</td>\n",
              "      <td>France</td>\n",
              "    </tr>\n",
              "    <tr>\n",
              "      <th>28</th>\n",
              "      <td>28</td>\n",
              "      <td>536370</td>\n",
              "      <td>22726</td>\n",
              "      <td>ALARM CLOCK BAKELIKE GREEN</td>\n",
              "      <td>12</td>\n",
              "      <td>2010-12-01 08:45:00</td>\n",
              "      <td>3.75</td>\n",
              "      <td>12583.0</td>\n",
              "      <td>France</td>\n",
              "    </tr>\n",
              "    <tr>\n",
              "      <th>29</th>\n",
              "      <td>29</td>\n",
              "      <td>536370</td>\n",
              "      <td>21724</td>\n",
              "      <td>PANDA AND BUNNIES STICKER SHEET</td>\n",
              "      <td>12</td>\n",
              "      <td>2010-12-01 08:45:00</td>\n",
              "      <td>0.85</td>\n",
              "      <td>12583.0</td>\n",
              "      <td>France</td>\n",
              "    </tr>\n",
              "    <tr>\n",
              "      <th>30</th>\n",
              "      <td>30</td>\n",
              "      <td>536370</td>\n",
              "      <td>21883</td>\n",
              "      <td>STARS GIFT TAPE</td>\n",
              "      <td>24</td>\n",
              "      <td>2010-12-01 08:45:00</td>\n",
              "      <td>0.65</td>\n",
              "      <td>12583.0</td>\n",
              "      <td>France</td>\n",
              "    </tr>\n",
              "  </tbody>\n",
              "</table>\n",
              "</div>"
            ],
            "text/plain": [
              "    Unnamed: 0 InvoiceNo StockCode  ... UnitPrice  CustomerID Country\n",
              "26          26    536370     22728  ...      3.75     12583.0  France\n",
              "27          27    536370     22727  ...      3.75     12583.0  France\n",
              "28          28    536370     22726  ...      3.75     12583.0  France\n",
              "29          29    536370     21724  ...      0.85     12583.0  France\n",
              "30          30    536370     21883  ...      0.65     12583.0  France\n",
              "\n",
              "[5 rows x 9 columns]"
            ]
          },
          "metadata": {
            "tags": []
          },
          "execution_count": 17
        }
      ]
    },
    {
      "cell_type": "code",
      "metadata": {
        "id": "iaIU_74DGQZ7",
        "colab_type": "code",
        "outputId": "fcd50ded-cbd2-4efd-8b30-5a6773723eb0",
        "colab": {
          "base_uri": "https://localhost:8080/",
          "height": 588
        }
      },
      "source": [
        "#@title Otra manera de filtrar, pero usando más de un valor de búsqueda:\n",
        "df[df.Country.isin(['France','Spain'])].sort_values(by='Country', ascending=True).tail(10)"
      ],
      "execution_count": 0,
      "outputs": [
        {
          "output_type": "execute_result",
          "data": {
            "text/html": [
              "<div>\n",
              "<style scoped>\n",
              "    .dataframe tbody tr th:only-of-type {\n",
              "        vertical-align: middle;\n",
              "    }\n",
              "\n",
              "    .dataframe tbody tr th {\n",
              "        vertical-align: top;\n",
              "    }\n",
              "\n",
              "    .dataframe thead th {\n",
              "        text-align: right;\n",
              "    }\n",
              "</style>\n",
              "<table border=\"1\" class=\"dataframe\">\n",
              "  <thead>\n",
              "    <tr style=\"text-align: right;\">\n",
              "      <th></th>\n",
              "      <th>Unnamed: 0</th>\n",
              "      <th>InvoiceNo</th>\n",
              "      <th>StockCode</th>\n",
              "      <th>Description</th>\n",
              "      <th>Quantity</th>\n",
              "      <th>InvoiceDate</th>\n",
              "      <th>UnitPrice</th>\n",
              "      <th>CustomerID</th>\n",
              "      <th>Country</th>\n",
              "    </tr>\n",
              "  </thead>\n",
              "  <tbody>\n",
              "    <tr>\n",
              "      <th>315729</th>\n",
              "      <td>315729</td>\n",
              "      <td>564734</td>\n",
              "      <td>47590B</td>\n",
              "      <td>PINK HAPPY BIRTHDAY BUNTING</td>\n",
              "      <td>4</td>\n",
              "      <td>2011-08-28 13:32:00</td>\n",
              "      <td>5.45</td>\n",
              "      <td>12484.0</td>\n",
              "      <td>Spain</td>\n",
              "    </tr>\n",
              "    <tr>\n",
              "      <th>315728</th>\n",
              "      <td>315728</td>\n",
              "      <td>564734</td>\n",
              "      <td>47566</td>\n",
              "      <td>PARTY BUNTING</td>\n",
              "      <td>3</td>\n",
              "      <td>2011-08-28 13:32:00</td>\n",
              "      <td>4.95</td>\n",
              "      <td>12484.0</td>\n",
              "      <td>Spain</td>\n",
              "    </tr>\n",
              "    <tr>\n",
              "      <th>315727</th>\n",
              "      <td>315727</td>\n",
              "      <td>564734</td>\n",
              "      <td>23298</td>\n",
              "      <td>SPOTTY BUNTING</td>\n",
              "      <td>3</td>\n",
              "      <td>2011-08-28 13:32:00</td>\n",
              "      <td>4.95</td>\n",
              "      <td>12484.0</td>\n",
              "      <td>Spain</td>\n",
              "    </tr>\n",
              "    <tr>\n",
              "      <th>315726</th>\n",
              "      <td>315726</td>\n",
              "      <td>564734</td>\n",
              "      <td>47566B</td>\n",
              "      <td>TEA TIME PARTY BUNTING</td>\n",
              "      <td>3</td>\n",
              "      <td>2011-08-28 13:32:00</td>\n",
              "      <td>4.95</td>\n",
              "      <td>12484.0</td>\n",
              "      <td>Spain</td>\n",
              "    </tr>\n",
              "    <tr>\n",
              "      <th>315725</th>\n",
              "      <td>315725</td>\n",
              "      <td>564734</td>\n",
              "      <td>47590A</td>\n",
              "      <td>BLUE HAPPY BIRTHDAY BUNTING</td>\n",
              "      <td>4</td>\n",
              "      <td>2011-08-28 13:32:00</td>\n",
              "      <td>5.45</td>\n",
              "      <td>12484.0</td>\n",
              "      <td>Spain</td>\n",
              "    </tr>\n",
              "    <tr>\n",
              "      <th>315724</th>\n",
              "      <td>315724</td>\n",
              "      <td>564734</td>\n",
              "      <td>22384</td>\n",
              "      <td>LUNCH BAG PINK POLKADOT</td>\n",
              "      <td>4</td>\n",
              "      <td>2011-08-28 13:32:00</td>\n",
              "      <td>1.65</td>\n",
              "      <td>12484.0</td>\n",
              "      <td>Spain</td>\n",
              "    </tr>\n",
              "    <tr>\n",
              "      <th>315723</th>\n",
              "      <td>315723</td>\n",
              "      <td>564734</td>\n",
              "      <td>21625</td>\n",
              "      <td>VINTAGE UNION JACK APRON</td>\n",
              "      <td>1</td>\n",
              "      <td>2011-08-28 13:32:00</td>\n",
              "      <td>6.95</td>\n",
              "      <td>12484.0</td>\n",
              "      <td>Spain</td>\n",
              "    </tr>\n",
              "    <tr>\n",
              "      <th>315722</th>\n",
              "      <td>315722</td>\n",
              "      <td>564734</td>\n",
              "      <td>22611</td>\n",
              "      <td>VINTAGE UNION JACK SHOPPING BAG</td>\n",
              "      <td>1</td>\n",
              "      <td>2011-08-28 13:32:00</td>\n",
              "      <td>4.95</td>\n",
              "      <td>12484.0</td>\n",
              "      <td>Spain</td>\n",
              "    </tr>\n",
              "    <tr>\n",
              "      <th>414283</th>\n",
              "      <td>414283</td>\n",
              "      <td>572442</td>\n",
              "      <td>22739</td>\n",
              "      <td>RIBBON REEL CHRISTMAS SOCK BAUBLE</td>\n",
              "      <td>10</td>\n",
              "      <td>2011-10-24 12:09:00</td>\n",
              "      <td>1.65</td>\n",
              "      <td>12546.0</td>\n",
              "      <td>Spain</td>\n",
              "    </tr>\n",
              "    <tr>\n",
              "      <th>248794</th>\n",
              "      <td>248794</td>\n",
              "      <td>558871</td>\n",
              "      <td>21243</td>\n",
              "      <td>PINK  POLKADOT PLATE</td>\n",
              "      <td>32</td>\n",
              "      <td>2011-07-04 13:19:00</td>\n",
              "      <td>1.69</td>\n",
              "      <td>12557.0</td>\n",
              "      <td>Spain</td>\n",
              "    </tr>\n",
              "  </tbody>\n",
              "</table>\n",
              "</div>"
            ],
            "text/plain": [
              "        Unnamed: 0 InvoiceNo StockCode  ... UnitPrice  CustomerID Country\n",
              "315729      315729    564734    47590B  ...      5.45     12484.0   Spain\n",
              "315728      315728    564734     47566  ...      4.95     12484.0   Spain\n",
              "315727      315727    564734     23298  ...      4.95     12484.0   Spain\n",
              "315726      315726    564734    47566B  ...      4.95     12484.0   Spain\n",
              "315725      315725    564734    47590A  ...      5.45     12484.0   Spain\n",
              "315724      315724    564734     22384  ...      1.65     12484.0   Spain\n",
              "315723      315723    564734     21625  ...      6.95     12484.0   Spain\n",
              "315722      315722    564734     22611  ...      4.95     12484.0   Spain\n",
              "414283      414283    572442     22739  ...      1.65     12546.0   Spain\n",
              "248794      248794    558871     21243  ...      1.69     12557.0   Spain\n",
              "\n",
              "[10 rows x 9 columns]"
            ]
          },
          "metadata": {
            "tags": []
          },
          "execution_count": 18
        }
      ]
    },
    {
      "cell_type": "code",
      "metadata": {
        "id": "dD-yMZSH7e15",
        "colab_type": "code",
        "outputId": "0ab712ac-674f-4cc6-cd33-5324571facdb",
        "colab": {
          "base_uri": "https://localhost:8080/",
          "height": 310
        }
      },
      "source": [
        "#@title Otra manera de filtrar, pero usando condiciones sobre más de una columna:\n",
        "df[(df[\"InvoiceDate\"] < '2011-09-01') & (df[\"InvoiceDate\"] > '2011-01-01')].head()"
      ],
      "execution_count": 0,
      "outputs": [
        {
          "output_type": "execute_result",
          "data": {
            "text/html": [
              "<div>\n",
              "<style scoped>\n",
              "    .dataframe tbody tr th:only-of-type {\n",
              "        vertical-align: middle;\n",
              "    }\n",
              "\n",
              "    .dataframe tbody tr th {\n",
              "        vertical-align: top;\n",
              "    }\n",
              "\n",
              "    .dataframe thead th {\n",
              "        text-align: right;\n",
              "    }\n",
              "</style>\n",
              "<table border=\"1\" class=\"dataframe\">\n",
              "  <thead>\n",
              "    <tr style=\"text-align: right;\">\n",
              "      <th></th>\n",
              "      <th>Unnamed: 0</th>\n",
              "      <th>InvoiceNo</th>\n",
              "      <th>StockCode</th>\n",
              "      <th>Description</th>\n",
              "      <th>Quantity</th>\n",
              "      <th>InvoiceDate</th>\n",
              "      <th>UnitPrice</th>\n",
              "      <th>CustomerID</th>\n",
              "      <th>Country</th>\n",
              "    </tr>\n",
              "  </thead>\n",
              "  <tbody>\n",
              "    <tr>\n",
              "      <th>42481</th>\n",
              "      <td>42481</td>\n",
              "      <td>539993</td>\n",
              "      <td>22386</td>\n",
              "      <td>JUMBO BAG PINK POLKADOT</td>\n",
              "      <td>10</td>\n",
              "      <td>2011-01-04 10:00:00</td>\n",
              "      <td>1.95</td>\n",
              "      <td>13313.0</td>\n",
              "      <td>United Kingdom</td>\n",
              "    </tr>\n",
              "    <tr>\n",
              "      <th>42482</th>\n",
              "      <td>42482</td>\n",
              "      <td>539993</td>\n",
              "      <td>21499</td>\n",
              "      <td>BLUE POLKADOT WRAP</td>\n",
              "      <td>25</td>\n",
              "      <td>2011-01-04 10:00:00</td>\n",
              "      <td>0.42</td>\n",
              "      <td>13313.0</td>\n",
              "      <td>United Kingdom</td>\n",
              "    </tr>\n",
              "    <tr>\n",
              "      <th>42483</th>\n",
              "      <td>42483</td>\n",
              "      <td>539993</td>\n",
              "      <td>21498</td>\n",
              "      <td>RED RETROSPOT WRAP</td>\n",
              "      <td>25</td>\n",
              "      <td>2011-01-04 10:00:00</td>\n",
              "      <td>0.42</td>\n",
              "      <td>13313.0</td>\n",
              "      <td>United Kingdom</td>\n",
              "    </tr>\n",
              "    <tr>\n",
              "      <th>42484</th>\n",
              "      <td>42484</td>\n",
              "      <td>539993</td>\n",
              "      <td>22379</td>\n",
              "      <td>RECYCLING BAG RETROSPOT</td>\n",
              "      <td>5</td>\n",
              "      <td>2011-01-04 10:00:00</td>\n",
              "      <td>2.10</td>\n",
              "      <td>13313.0</td>\n",
              "      <td>United Kingdom</td>\n",
              "    </tr>\n",
              "    <tr>\n",
              "      <th>42485</th>\n",
              "      <td>42485</td>\n",
              "      <td>539993</td>\n",
              "      <td>20718</td>\n",
              "      <td>RED RETROSPOT SHOPPER BAG</td>\n",
              "      <td>10</td>\n",
              "      <td>2011-01-04 10:00:00</td>\n",
              "      <td>1.25</td>\n",
              "      <td>13313.0</td>\n",
              "      <td>United Kingdom</td>\n",
              "    </tr>\n",
              "  </tbody>\n",
              "</table>\n",
              "</div>"
            ],
            "text/plain": [
              "       Unnamed: 0 InvoiceNo StockCode  ... UnitPrice  CustomerID         Country\n",
              "42481       42481    539993     22386  ...      1.95     13313.0  United Kingdom\n",
              "42482       42482    539993     21499  ...      0.42     13313.0  United Kingdom\n",
              "42483       42483    539993     21498  ...      0.42     13313.0  United Kingdom\n",
              "42484       42484    539993     22379  ...      2.10     13313.0  United Kingdom\n",
              "42485       42485    539993     20718  ...      1.25     13313.0  United Kingdom\n",
              "\n",
              "[5 rows x 9 columns]"
            ]
          },
          "metadata": {
            "tags": []
          },
          "execution_count": 32
        }
      ]
    },
    {
      "cell_type": "markdown",
      "metadata": {
        "id": "VjGaUBluM7ku",
        "colab_type": "text"
      },
      "source": [
        "----\n",
        "### Selección de columnas"
      ]
    },
    {
      "cell_type": "code",
      "metadata": {
        "id": "bxyb44R-JAqW",
        "colab_type": "code",
        "outputId": "ce5dbc47-e5f0-4a05-8ab6-588e6f418151",
        "colab": {
          "base_uri": "https://localhost:8080/",
          "height": 126
        }
      },
      "source": [
        "df[\"UnitPrice\"].head()"
      ],
      "execution_count": 0,
      "outputs": [
        {
          "output_type": "execute_result",
          "data": {
            "text/plain": [
              "0    2.55\n",
              "1    3.39\n",
              "2    2.75\n",
              "3    3.39\n",
              "4    3.39\n",
              "Name: UnitPrice, dtype: float64"
            ]
          },
          "metadata": {
            "tags": []
          },
          "execution_count": 9
        }
      ]
    },
    {
      "cell_type": "markdown",
      "metadata": {
        "id": "UhDtShUyOKPu",
        "colab_type": "text"
      },
      "source": [
        "### Selección de filas (registros)"
      ]
    },
    {
      "cell_type": "code",
      "metadata": {
        "id": "7-bQwHSyOKg_",
        "colab_type": "code",
        "outputId": "bc4eabe9-976e-42f9-afe3-b32a68bbefa7",
        "colab": {
          "base_uri": "https://localhost:8080/",
          "height": 237
        }
      },
      "source": [
        "df[4:10]"
      ],
      "execution_count": 0,
      "outputs": [
        {
          "output_type": "execute_result",
          "data": {
            "text/html": [
              "<div>\n",
              "<style scoped>\n",
              "    .dataframe tbody tr th:only-of-type {\n",
              "        vertical-align: middle;\n",
              "    }\n",
              "\n",
              "    .dataframe tbody tr th {\n",
              "        vertical-align: top;\n",
              "    }\n",
              "\n",
              "    .dataframe thead th {\n",
              "        text-align: right;\n",
              "    }\n",
              "</style>\n",
              "<table border=\"1\" class=\"dataframe\">\n",
              "  <thead>\n",
              "    <tr style=\"text-align: right;\">\n",
              "      <th></th>\n",
              "      <th>Unnamed: 0</th>\n",
              "      <th>InvoiceNo</th>\n",
              "      <th>StockCode</th>\n",
              "      <th>Description</th>\n",
              "      <th>Quantity</th>\n",
              "      <th>InvoiceDate</th>\n",
              "      <th>UnitPrice</th>\n",
              "      <th>CustomerID</th>\n",
              "      <th>Country</th>\n",
              "    </tr>\n",
              "  </thead>\n",
              "  <tbody>\n",
              "    <tr>\n",
              "      <th>4</th>\n",
              "      <td>4</td>\n",
              "      <td>536365</td>\n",
              "      <td>84029E</td>\n",
              "      <td>RED WOOLLY HOTTIE WHITE HEART.</td>\n",
              "      <td>6</td>\n",
              "      <td>2010-12-01 08:26:00</td>\n",
              "      <td>3.39</td>\n",
              "      <td>17850.0</td>\n",
              "      <td>United Kingdom</td>\n",
              "    </tr>\n",
              "    <tr>\n",
              "      <th>5</th>\n",
              "      <td>5</td>\n",
              "      <td>536365</td>\n",
              "      <td>22752</td>\n",
              "      <td>SET 7 BABUSHKA NESTING BOXES</td>\n",
              "      <td>2</td>\n",
              "      <td>2010-12-01 08:26:00</td>\n",
              "      <td>7.65</td>\n",
              "      <td>17850.0</td>\n",
              "      <td>United Kingdom</td>\n",
              "    </tr>\n",
              "    <tr>\n",
              "      <th>6</th>\n",
              "      <td>6</td>\n",
              "      <td>536365</td>\n",
              "      <td>21730</td>\n",
              "      <td>GLASS STAR FROSTED T-LIGHT HOLDER</td>\n",
              "      <td>6</td>\n",
              "      <td>2010-12-01 08:26:00</td>\n",
              "      <td>4.25</td>\n",
              "      <td>17850.0</td>\n",
              "      <td>United Kingdom</td>\n",
              "    </tr>\n",
              "    <tr>\n",
              "      <th>7</th>\n",
              "      <td>7</td>\n",
              "      <td>536366</td>\n",
              "      <td>22633</td>\n",
              "      <td>HAND WARMER UNION JACK</td>\n",
              "      <td>6</td>\n",
              "      <td>2010-12-01 08:28:00</td>\n",
              "      <td>1.85</td>\n",
              "      <td>17850.0</td>\n",
              "      <td>United Kingdom</td>\n",
              "    </tr>\n",
              "    <tr>\n",
              "      <th>8</th>\n",
              "      <td>8</td>\n",
              "      <td>536366</td>\n",
              "      <td>22632</td>\n",
              "      <td>HAND WARMER RED POLKA DOT</td>\n",
              "      <td>6</td>\n",
              "      <td>2010-12-01 08:28:00</td>\n",
              "      <td>1.85</td>\n",
              "      <td>17850.0</td>\n",
              "      <td>United Kingdom</td>\n",
              "    </tr>\n",
              "    <tr>\n",
              "      <th>9</th>\n",
              "      <td>9</td>\n",
              "      <td>536367</td>\n",
              "      <td>84879</td>\n",
              "      <td>ASSORTED COLOUR BIRD ORNAMENT</td>\n",
              "      <td>32</td>\n",
              "      <td>2010-12-01 08:34:00</td>\n",
              "      <td>1.69</td>\n",
              "      <td>13047.0</td>\n",
              "      <td>United Kingdom</td>\n",
              "    </tr>\n",
              "  </tbody>\n",
              "</table>\n",
              "</div>"
            ],
            "text/plain": [
              "   Unnamed: 0 InvoiceNo StockCode  ... UnitPrice  CustomerID         Country\n",
              "4           4    536365    84029E  ...      3.39     17850.0  United Kingdom\n",
              "5           5    536365     22752  ...      7.65     17850.0  United Kingdom\n",
              "6           6    536365     21730  ...      4.25     17850.0  United Kingdom\n",
              "7           7    536366     22633  ...      1.85     17850.0  United Kingdom\n",
              "8           8    536366     22632  ...      1.85     17850.0  United Kingdom\n",
              "9           9    536367     84879  ...      1.69     13047.0  United Kingdom\n",
              "\n",
              "[6 rows x 9 columns]"
            ]
          },
          "metadata": {
            "tags": []
          },
          "execution_count": 14
        }
      ]
    },
    {
      "cell_type": "markdown",
      "metadata": {
        "id": "VGvRzeeEOLEC",
        "colab_type": "text"
      },
      "source": [
        "### Selección de filas y columnas"
      ]
    },
    {
      "cell_type": "code",
      "metadata": {
        "id": "WicgIINLOLNF",
        "colab_type": "code",
        "outputId": "bfeeb044-2956-459c-f190-c034d7d57f7a",
        "colab": {
          "base_uri": "https://localhost:8080/",
          "height": 217
        }
      },
      "source": [
        "df[\"UnitPrice\"][:10]"
      ],
      "execution_count": 0,
      "outputs": [
        {
          "output_type": "execute_result",
          "data": {
            "text/plain": [
              "0    2.55\n",
              "1    3.39\n",
              "2    2.75\n",
              "3    3.39\n",
              "4    3.39\n",
              "5    7.65\n",
              "6    4.25\n",
              "7    1.85\n",
              "8    1.85\n",
              "9    1.69\n",
              "Name: UnitPrice, dtype: float64"
            ]
          },
          "metadata": {
            "tags": []
          },
          "execution_count": 13
        }
      ]
    },
    {
      "cell_type": "markdown",
      "metadata": {
        "id": "qsc5iuVxPVc0",
        "colab_type": "text"
      },
      "source": [
        "## Selección de multiples columnas"
      ]
    },
    {
      "cell_type": "code",
      "metadata": {
        "id": "wU4PI9SQPb4k",
        "colab_type": "code",
        "outputId": "84490465-3e03-4c0c-a19a-577b16b52cd3",
        "colab": {
          "base_uri": "https://localhost:8080/",
          "height": 206
        }
      },
      "source": [
        "df[[\"InvoiceNo\",\"UnitPrice\"]][:5]"
      ],
      "execution_count": 0,
      "outputs": [
        {
          "output_type": "execute_result",
          "data": {
            "text/html": [
              "<div>\n",
              "<style scoped>\n",
              "    .dataframe tbody tr th:only-of-type {\n",
              "        vertical-align: middle;\n",
              "    }\n",
              "\n",
              "    .dataframe tbody tr th {\n",
              "        vertical-align: top;\n",
              "    }\n",
              "\n",
              "    .dataframe thead th {\n",
              "        text-align: right;\n",
              "    }\n",
              "</style>\n",
              "<table border=\"1\" class=\"dataframe\">\n",
              "  <thead>\n",
              "    <tr style=\"text-align: right;\">\n",
              "      <th></th>\n",
              "      <th>InvoiceNo</th>\n",
              "      <th>UnitPrice</th>\n",
              "    </tr>\n",
              "  </thead>\n",
              "  <tbody>\n",
              "    <tr>\n",
              "      <th>0</th>\n",
              "      <td>536365</td>\n",
              "      <td>2.55</td>\n",
              "    </tr>\n",
              "    <tr>\n",
              "      <th>1</th>\n",
              "      <td>536365</td>\n",
              "      <td>3.39</td>\n",
              "    </tr>\n",
              "    <tr>\n",
              "      <th>2</th>\n",
              "      <td>536365</td>\n",
              "      <td>2.75</td>\n",
              "    </tr>\n",
              "    <tr>\n",
              "      <th>3</th>\n",
              "      <td>536365</td>\n",
              "      <td>3.39</td>\n",
              "    </tr>\n",
              "    <tr>\n",
              "      <th>4</th>\n",
              "      <td>536365</td>\n",
              "      <td>3.39</td>\n",
              "    </tr>\n",
              "  </tbody>\n",
              "</table>\n",
              "</div>"
            ],
            "text/plain": [
              "  InvoiceNo  UnitPrice\n",
              "0    536365       2.55\n",
              "1    536365       3.39\n",
              "2    536365       2.75\n",
              "3    536365       3.39\n",
              "4    536365       3.39"
            ]
          },
          "metadata": {
            "tags": []
          },
          "execution_count": 15
        }
      ]
    },
    {
      "cell_type": "markdown",
      "metadata": {
        "id": "Os-wuH9_P1pz",
        "colab_type": "text"
      },
      "source": [
        "## Contabilización de valores en una columna"
      ]
    },
    {
      "cell_type": "code",
      "metadata": {
        "id": "rrv-5UEYPfS9",
        "colab_type": "code",
        "outputId": "7bb40038-7040-4477-b63b-484796320d84",
        "colab": {
          "base_uri": "https://localhost:8080/",
          "height": 726
        }
      },
      "source": [
        "df[\"Country\"].value_counts()"
      ],
      "execution_count": 0,
      "outputs": [
        {
          "output_type": "execute_result",
          "data": {
            "text/plain": [
              "United Kingdom          495478\n",
              "Germany                   9495\n",
              "France                    8557\n",
              "EIRE                      8196\n",
              "Spain                     2533\n",
              "Netherlands               2371\n",
              "Belgium                   2069\n",
              "Switzerland               2002\n",
              "Portugal                  1519\n",
              "Australia                 1259\n",
              "Norway                    1086\n",
              "Italy                      803\n",
              "Channel Islands            758\n",
              "Finland                    695\n",
              "Cyprus                     622\n",
              "Sweden                     462\n",
              "Unspecified                446\n",
              "Austria                    401\n",
              "Denmark                    389\n",
              "Japan                      358\n",
              "Poland                     341\n",
              "Israel                     297\n",
              "USA                        291\n",
              "Hong Kong                  288\n",
              "Singapore                  229\n",
              "Iceland                    182\n",
              "Canada                     151\n",
              "Greece                     146\n",
              "Malta                      127\n",
              "United Arab Emirates        68\n",
              "European Community          61\n",
              "RSA                         58\n",
              "Lebanon                     45\n",
              "Lithuania                   35\n",
              "Brazil                      32\n",
              "Czech Republic              30\n",
              "Bahrain                     19\n",
              "Saudi Arabia                10\n",
              "Name: Country, dtype: int64"
            ]
          },
          "metadata": {
            "tags": []
          },
          "execution_count": 16
        }
      ]
    },
    {
      "cell_type": "markdown",
      "metadata": {
        "id": "hqUbN9ApQ_S8",
        "colab_type": "text"
      },
      "source": [
        "Algo interesante"
      ]
    },
    {
      "cell_type": "code",
      "metadata": {
        "id": "MAoImSxpQ-B9",
        "colab_type": "code",
        "outputId": "d085baef-b7ea-40d6-c502-d8c5d2c688e7",
        "colab": {
          "base_uri": "https://localhost:8080/",
          "height": 357
        }
      },
      "source": [
        "df[\"Country\"].value_counts()[:10].plot(kind='bar')"
      ],
      "execution_count": 0,
      "outputs": [
        {
          "output_type": "execute_result",
          "data": {
            "text/plain": [
              "<matplotlib.axes._subplots.AxesSubplot at 0x7f0827ae0be0>"
            ]
          },
          "metadata": {
            "tags": []
          },
          "execution_count": 20
        },
        {
          "output_type": "display_data",
          "data": {
            "image/png": "[encoded data removed]",
            "text/plain": [
              "<Figure size 432x288 with 1 Axes>"
            ]
          },
          "metadata": {
            "tags": []
          }
        }
      ]
    },
    {
      "cell_type": "markdown",
      "metadata": {
        "id": "2J2-B5dORfdl",
        "colab_type": "text"
      },
      "source": [
        "## Filtrando filas por criterios en columnas"
      ]
    },
    {
      "cell_type": "code",
      "metadata": {
        "id": "bl26463XQ-lL",
        "colab_type": "code",
        "colab": {
          "base_uri": "https://localhost:8080/",
          "height": 128
        },
        "outputId": "49ffdb2a-c851-4774-e849-9607b7a0fd75"
      },
      "source": [
        "#@title Primero: El uso de un operador booleano genera una serie de valores booleanos con un valor por fila.\n",
        "regs_ = df[\"UnitPrice\"] > 3\n",
        "regs_.head()"
      ],
      "execution_count": 26,
      "outputs": [
        {
          "output_type": "execute_result",
          "data": {
            "text/plain": [
              "0    False\n",
              "1     True\n",
              "2    False\n",
              "3     True\n",
              "4     True\n",
              "Name: UnitPrice, dtype: bool"
            ]
          },
          "metadata": {
            "tags": []
          },
          "execution_count": 26
        }
      ]
    },
    {
      "cell_type": "markdown",
      "metadata": {
        "id": "IbIVukobWdrd",
        "colab_type": "text"
      },
      "source": [
        "Al usar la serie de valores booleanos con el dataframe obtendremos las filas en donde la serie tenía un valor ```True```."
      ]
    },
    {
      "cell_type": "code",
      "metadata": {
        "id": "eXkU2tyiWeDv",
        "colab_type": "code",
        "colab": {
          "base_uri": "https://localhost:8080/",
          "height": 206
        },
        "outputId": "2de5cc05-6b50-4dff-aa71-db45f22e4653"
      },
      "source": [
        "df[regs_].head()"
      ],
      "execution_count": 27,
      "outputs": [
        {
          "output_type": "execute_result",
          "data": {
            "text/html": [
              "<div>\n",
              "<style scoped>\n",
              "    .dataframe tbody tr th:only-of-type {\n",
              "        vertical-align: middle;\n",
              "    }\n",
              "\n",
              "    .dataframe tbody tr th {\n",
              "        vertical-align: top;\n",
              "    }\n",
              "\n",
              "    .dataframe thead th {\n",
              "        text-align: right;\n",
              "    }\n",
              "</style>\n",
              "<table border=\"1\" class=\"dataframe\">\n",
              "  <thead>\n",
              "    <tr style=\"text-align: right;\">\n",
              "      <th></th>\n",
              "      <th>Unnamed: 0</th>\n",
              "      <th>InvoiceNo</th>\n",
              "      <th>StockCode</th>\n",
              "      <th>Description</th>\n",
              "      <th>Quantity</th>\n",
              "      <th>InvoiceDate</th>\n",
              "      <th>UnitPrice</th>\n",
              "      <th>CustomerID</th>\n",
              "      <th>Country</th>\n",
              "    </tr>\n",
              "  </thead>\n",
              "  <tbody>\n",
              "    <tr>\n",
              "      <th>1</th>\n",
              "      <td>1</td>\n",
              "      <td>536365</td>\n",
              "      <td>71053</td>\n",
              "      <td>WHITE METAL LANTERN</td>\n",
              "      <td>6</td>\n",
              "      <td>2010-12-01 08:26:00</td>\n",
              "      <td>3.39</td>\n",
              "      <td>17850.0</td>\n",
              "      <td>United Kingdom</td>\n",
              "    </tr>\n",
              "    <tr>\n",
              "      <th>3</th>\n",
              "      <td>3</td>\n",
              "      <td>536365</td>\n",
              "      <td>84029G</td>\n",
              "      <td>KNITTED UNION FLAG HOT WATER BOTTLE</td>\n",
              "      <td>6</td>\n",
              "      <td>2010-12-01 08:26:00</td>\n",
              "      <td>3.39</td>\n",
              "      <td>17850.0</td>\n",
              "      <td>United Kingdom</td>\n",
              "    </tr>\n",
              "    <tr>\n",
              "      <th>4</th>\n",
              "      <td>4</td>\n",
              "      <td>536365</td>\n",
              "      <td>84029E</td>\n",
              "      <td>RED WOOLLY HOTTIE WHITE HEART.</td>\n",
              "      <td>6</td>\n",
              "      <td>2010-12-01 08:26:00</td>\n",
              "      <td>3.39</td>\n",
              "      <td>17850.0</td>\n",
              "      <td>United Kingdom</td>\n",
              "    </tr>\n",
              "    <tr>\n",
              "      <th>5</th>\n",
              "      <td>5</td>\n",
              "      <td>536365</td>\n",
              "      <td>22752</td>\n",
              "      <td>SET 7 BABUSHKA NESTING BOXES</td>\n",
              "      <td>2</td>\n",
              "      <td>2010-12-01 08:26:00</td>\n",
              "      <td>7.65</td>\n",
              "      <td>17850.0</td>\n",
              "      <td>United Kingdom</td>\n",
              "    </tr>\n",
              "    <tr>\n",
              "      <th>6</th>\n",
              "      <td>6</td>\n",
              "      <td>536365</td>\n",
              "      <td>21730</td>\n",
              "      <td>GLASS STAR FROSTED T-LIGHT HOLDER</td>\n",
              "      <td>6</td>\n",
              "      <td>2010-12-01 08:26:00</td>\n",
              "      <td>4.25</td>\n",
              "      <td>17850.0</td>\n",
              "      <td>United Kingdom</td>\n",
              "    </tr>\n",
              "  </tbody>\n",
              "</table>\n",
              "</div>"
            ],
            "text/plain": [
              "   Unnamed: 0 InvoiceNo StockCode  ... UnitPrice  CustomerID         Country\n",
              "1           1    536365     71053  ...      3.39     17850.0  United Kingdom\n",
              "3           3    536365    84029G  ...      3.39     17850.0  United Kingdom\n",
              "4           4    536365    84029E  ...      3.39     17850.0  United Kingdom\n",
              "5           5    536365     22752  ...      7.65     17850.0  United Kingdom\n",
              "6           6    536365     21730  ...      4.25     17850.0  United Kingdom\n",
              "\n",
              "[5 rows x 9 columns]"
            ]
          },
          "metadata": {
            "tags": []
          },
          "execution_count": 27
        }
      ]
    },
    {
      "cell_type": "markdown",
      "metadata": {
        "id": "Vy3Wsj_kXd3y",
        "colab_type": "text"
      },
      "source": [
        "Es posible agregar más condiciones al filtro usando el operador ```&``` "
      ]
    },
    {
      "cell_type": "code",
      "metadata": {
        "id": "RyiSYX4gXeI7",
        "colab_type": "code",
        "colab": {
          "base_uri": "https://localhost:8080/",
          "height": 206
        },
        "outputId": "40ff912a-4d0d-4ecd-b2d1-2475db955a6a"
      },
      "source": [
        "regs_precio = df[\"UnitPrice\"] > 3\n",
        "regs_pais = df[\"Country\"] == \"Spain\"\n",
        "df[regs_precio & regs_pais].head()"
      ],
      "execution_count": 28,
      "outputs": [
        {
          "output_type": "execute_result",
          "data": {
            "text/html": [
              "<div>\n",
              "<style scoped>\n",
              "    .dataframe tbody tr th:only-of-type {\n",
              "        vertical-align: middle;\n",
              "    }\n",
              "\n",
              "    .dataframe tbody tr th {\n",
              "        vertical-align: top;\n",
              "    }\n",
              "\n",
              "    .dataframe thead th {\n",
              "        text-align: right;\n",
              "    }\n",
              "</style>\n",
              "<table border=\"1\" class=\"dataframe\">\n",
              "  <thead>\n",
              "    <tr style=\"text-align: right;\">\n",
              "      <th></th>\n",
              "      <th>Unnamed: 0</th>\n",
              "      <th>InvoiceNo</th>\n",
              "      <th>StockCode</th>\n",
              "      <th>Description</th>\n",
              "      <th>Quantity</th>\n",
              "      <th>InvoiceDate</th>\n",
              "      <th>UnitPrice</th>\n",
              "      <th>CustomerID</th>\n",
              "      <th>Country</th>\n",
              "    </tr>\n",
              "  </thead>\n",
              "  <tbody>\n",
              "    <tr>\n",
              "      <th>21565</th>\n",
              "      <td>21565</td>\n",
              "      <td>538095</td>\n",
              "      <td>22504</td>\n",
              "      <td>CABIN BAG VINTAGE RETROSPOT</td>\n",
              "      <td>1</td>\n",
              "      <td>2010-12-09 14:55:00</td>\n",
              "      <td>29.95</td>\n",
              "      <td>17097.0</td>\n",
              "      <td>Spain</td>\n",
              "    </tr>\n",
              "    <tr>\n",
              "      <th>21571</th>\n",
              "      <td>21571</td>\n",
              "      <td>538095</td>\n",
              "      <td>22796</td>\n",
              "      <td>PHOTO FRAME 3 CLASSIC HANGING</td>\n",
              "      <td>2</td>\n",
              "      <td>2010-12-09 14:55:00</td>\n",
              "      <td>9.95</td>\n",
              "      <td>17097.0</td>\n",
              "      <td>Spain</td>\n",
              "    </tr>\n",
              "    <tr>\n",
              "      <th>21577</th>\n",
              "      <td>21577</td>\n",
              "      <td>538095</td>\n",
              "      <td>47566</td>\n",
              "      <td>PARTY BUNTING</td>\n",
              "      <td>1</td>\n",
              "      <td>2010-12-09 14:55:00</td>\n",
              "      <td>4.65</td>\n",
              "      <td>17097.0</td>\n",
              "      <td>Spain</td>\n",
              "    </tr>\n",
              "    <tr>\n",
              "      <th>21579</th>\n",
              "      <td>21579</td>\n",
              "      <td>538095</td>\n",
              "      <td>21430</td>\n",
              "      <td>SET/3 RED GINGHAM ROSE STORAGE BOX</td>\n",
              "      <td>1</td>\n",
              "      <td>2010-12-09 14:55:00</td>\n",
              "      <td>3.75</td>\n",
              "      <td>17097.0</td>\n",
              "      <td>Spain</td>\n",
              "    </tr>\n",
              "    <tr>\n",
              "      <th>21580</th>\n",
              "      <td>21580</td>\n",
              "      <td>538095</td>\n",
              "      <td>22914</td>\n",
              "      <td>BLUE COAT RACK PARIS FASHION</td>\n",
              "      <td>1</td>\n",
              "      <td>2010-12-09 14:55:00</td>\n",
              "      <td>4.95</td>\n",
              "      <td>17097.0</td>\n",
              "      <td>Spain</td>\n",
              "    </tr>\n",
              "  </tbody>\n",
              "</table>\n",
              "</div>"
            ],
            "text/plain": [
              "       Unnamed: 0 InvoiceNo StockCode  ... UnitPrice  CustomerID Country\n",
              "21565       21565    538095     22504  ...     29.95     17097.0   Spain\n",
              "21571       21571    538095     22796  ...      9.95     17097.0   Spain\n",
              "21577       21577    538095     47566  ...      4.65     17097.0   Spain\n",
              "21579       21579    538095     21430  ...      3.75     17097.0   Spain\n",
              "21580       21580    538095     22914  ...      4.95     17097.0   Spain\n",
              "\n",
              "[5 rows x 9 columns]"
            ]
          },
          "metadata": {
            "tags": []
          },
          "execution_count": 28
        }
      ]
    },
    {
      "cell_type": "markdown",
      "metadata": {
        "id": "75lsO5baaDCT",
        "colab_type": "text"
      },
      "source": [
        "Es posible incluso seleccionar algunas columnas"
      ]
    },
    {
      "cell_type": "code",
      "metadata": {
        "id": "tiDAfWTXaDWS",
        "colab_type": "code",
        "colab": {
          "base_uri": "https://localhost:8080/",
          "height": 206
        },
        "outputId": "00d10ce4-ba51-4490-a135-9c3940b01b11"
      },
      "source": [
        "df[regs_precio & regs_pais][[\"InvoiceNo\",\"Description\",\"Country\"]].head()"
      ],
      "execution_count": 29,
      "outputs": [
        {
          "output_type": "execute_result",
          "data": {
            "text/html": [
              "<div>\n",
              "<style scoped>\n",
              "    .dataframe tbody tr th:only-of-type {\n",
              "        vertical-align: middle;\n",
              "    }\n",
              "\n",
              "    .dataframe tbody tr th {\n",
              "        vertical-align: top;\n",
              "    }\n",
              "\n",
              "    .dataframe thead th {\n",
              "        text-align: right;\n",
              "    }\n",
              "</style>\n",
              "<table border=\"1\" class=\"dataframe\">\n",
              "  <thead>\n",
              "    <tr style=\"text-align: right;\">\n",
              "      <th></th>\n",
              "      <th>InvoiceNo</th>\n",
              "      <th>Description</th>\n",
              "      <th>Country</th>\n",
              "    </tr>\n",
              "  </thead>\n",
              "  <tbody>\n",
              "    <tr>\n",
              "      <th>21565</th>\n",
              "      <td>538095</td>\n",
              "      <td>CABIN BAG VINTAGE RETROSPOT</td>\n",
              "      <td>Spain</td>\n",
              "    </tr>\n",
              "    <tr>\n",
              "      <th>21571</th>\n",
              "      <td>538095</td>\n",
              "      <td>PHOTO FRAME 3 CLASSIC HANGING</td>\n",
              "      <td>Spain</td>\n",
              "    </tr>\n",
              "    <tr>\n",
              "      <th>21577</th>\n",
              "      <td>538095</td>\n",
              "      <td>PARTY BUNTING</td>\n",
              "      <td>Spain</td>\n",
              "    </tr>\n",
              "    <tr>\n",
              "      <th>21579</th>\n",
              "      <td>538095</td>\n",
              "      <td>SET/3 RED GINGHAM ROSE STORAGE BOX</td>\n",
              "      <td>Spain</td>\n",
              "    </tr>\n",
              "    <tr>\n",
              "      <th>21580</th>\n",
              "      <td>538095</td>\n",
              "      <td>BLUE COAT RACK PARIS FASHION</td>\n",
              "      <td>Spain</td>\n",
              "    </tr>\n",
              "  </tbody>\n",
              "</table>\n",
              "</div>"
            ],
            "text/plain": [
              "      InvoiceNo                         Description Country\n",
              "21565    538095         CABIN BAG VINTAGE RETROSPOT   Spain\n",
              "21571    538095       PHOTO FRAME 3 CLASSIC HANGING   Spain\n",
              "21577    538095                       PARTY BUNTING   Spain\n",
              "21579    538095  SET/3 RED GINGHAM ROSE STORAGE BOX   Spain\n",
              "21580    538095        BLUE COAT RACK PARIS FASHION   Spain"
            ]
          },
          "metadata": {
            "tags": []
          },
          "execution_count": 29
        }
      ]
    },
    {
      "cell_type": "markdown",
      "metadata": {
        "id": "q3TCx22DgFhQ",
        "colab_type": "text"
      },
      "source": [
        "## Cálculo de medidas agregadas sobre las filas\n",
        "\n",
        "Los Dataframes tienen un método ```.groupby()``` que es similar al método groupby de SQL.\n",
        "\n",
        "Por ejemplo ```df.groupby(\"Country\").aggregate(sum)```  significa: \"Agrupar las filas por país y luego sumar todos los valores de cada columna correspondientes al mismo país\""
      ]
    },
    {
      "cell_type": "code",
      "metadata": {
        "id": "gDA73kEoqpcc",
        "colab_type": "code",
        "colab": {
          "base_uri": "https://localhost:8080/",
          "height": 1272
        },
        "outputId": "33f1e58d-4fad-4f58-a55c-bceb3a28ed1c"
      },
      "source": [
        "df.groupby(\"Country\").aggregate(sum)"
      ],
      "execution_count": 66,
      "outputs": [
        {
          "output_type": "execute_result",
          "data": {
            "text/html": [
              "<div>\n",
              "<style scoped>\n",
              "    .dataframe tbody tr th:only-of-type {\n",
              "        vertical-align: middle;\n",
              "    }\n",
              "\n",
              "    .dataframe tbody tr th {\n",
              "        vertical-align: top;\n",
              "    }\n",
              "\n",
              "    .dataframe thead th {\n",
              "        text-align: right;\n",
              "    }\n",
              "</style>\n",
              "<table border=\"1\" class=\"dataframe\">\n",
              "  <thead>\n",
              "    <tr style=\"text-align: right;\">\n",
              "      <th></th>\n",
              "      <th>Unnamed: 0</th>\n",
              "      <th>Quantity</th>\n",
              "      <th>UnitPrice</th>\n",
              "      <th>CustomerID</th>\n",
              "    </tr>\n",
              "    <tr>\n",
              "      <th>Country</th>\n",
              "      <th></th>\n",
              "      <th></th>\n",
              "      <th></th>\n",
              "      <th></th>\n",
              "    </tr>\n",
              "  </thead>\n",
              "  <tbody>\n",
              "    <tr>\n",
              "      <th>Australia</th>\n",
              "      <td>285150021</td>\n",
              "      <td>83653</td>\n",
              "      <td>4.054750e+03</td>\n",
              "      <td>1.569300e+07</td>\n",
              "    </tr>\n",
              "    <tr>\n",
              "      <th>Austria</th>\n",
              "      <td>118785389</td>\n",
              "      <td>4827</td>\n",
              "      <td>1.701520e+03</td>\n",
              "      <td>5.021102e+06</td>\n",
              "    </tr>\n",
              "    <tr>\n",
              "      <th>Bahrain</th>\n",
              "      <td>3226853</td>\n",
              "      <td>260</td>\n",
              "      <td>8.657000e+01</td>\n",
              "      <td>2.100270e+05</td>\n",
              "    </tr>\n",
              "    <tr>\n",
              "      <th>Belgium</th>\n",
              "      <td>572112325</td>\n",
              "      <td>23152</td>\n",
              "      <td>7.540130e+03</td>\n",
              "      <td>2.571829e+07</td>\n",
              "    </tr>\n",
              "    <tr>\n",
              "      <th>Brazil</th>\n",
              "      <td>5034064</td>\n",
              "      <td>356</td>\n",
              "      <td>1.426000e+02</td>\n",
              "      <td>4.086080e+05</td>\n",
              "    </tr>\n",
              "    <tr>\n",
              "      <th>Canada</th>\n",
              "      <td>36331486</td>\n",
              "      <td>2763</td>\n",
              "      <td>9.105800e+02</td>\n",
              "      <td>2.615483e+06</td>\n",
              "    </tr>\n",
              "    <tr>\n",
              "      <th>Channel Islands</th>\n",
              "      <td>193815157</td>\n",
              "      <td>9479</td>\n",
              "      <td>3.738550e+03</td>\n",
              "      <td>1.128522e+07</td>\n",
              "    </tr>\n",
              "    <tr>\n",
              "      <th>Cyprus</th>\n",
              "      <td>148231860</td>\n",
              "      <td>6317</td>\n",
              "      <td>3.920070e+03</td>\n",
              "      <td>7.715880e+06</td>\n",
              "    </tr>\n",
              "    <tr>\n",
              "      <th>Czech Republic</th>\n",
              "      <td>7115264</td>\n",
              "      <td>592</td>\n",
              "      <td>8.815000e+01</td>\n",
              "      <td>3.834300e+05</td>\n",
              "    </tr>\n",
              "    <tr>\n",
              "      <th>Denmark</th>\n",
              "      <td>117136615</td>\n",
              "      <td>8188</td>\n",
              "      <td>1.266950e+03</td>\n",
              "      <td>4.876734e+06</td>\n",
              "    </tr>\n",
              "    <tr>\n",
              "      <th>EIRE</th>\n",
              "      <td>2344255272</td>\n",
              "      <td>142637</td>\n",
              "      <td>4.844719e+04</td>\n",
              "      <td>1.103917e+08</td>\n",
              "    </tr>\n",
              "    <tr>\n",
              "      <th>European Community</th>\n",
              "      <td>14266523</td>\n",
              "      <td>497</td>\n",
              "      <td>2.940500e+02</td>\n",
              "      <td>9.215880e+05</td>\n",
              "    </tr>\n",
              "    <tr>\n",
              "      <th>Finland</th>\n",
              "      <td>178023490</td>\n",
              "      <td>10666</td>\n",
              "      <td>3.786850e+03</td>\n",
              "      <td>8.699324e+06</td>\n",
              "    </tr>\n",
              "    <tr>\n",
              "      <th>France</th>\n",
              "      <td>2404742115</td>\n",
              "      <td>110480</td>\n",
              "      <td>4.303199e+04</td>\n",
              "      <td>1.076489e+08</td>\n",
              "    </tr>\n",
              "    <tr>\n",
              "      <th>Germany</th>\n",
              "      <td>2535792309</td>\n",
              "      <td>117448</td>\n",
              "      <td>3.766600e+04</td>\n",
              "      <td>1.200751e+08</td>\n",
              "    </tr>\n",
              "    <tr>\n",
              "      <th>Greece</th>\n",
              "      <td>34808154</td>\n",
              "      <td>1556</td>\n",
              "      <td>7.132900e+02</td>\n",
              "      <td>2.008584e+06</td>\n",
              "    </tr>\n",
              "    <tr>\n",
              "      <th>Hong Kong</th>\n",
              "      <td>61529848</td>\n",
              "      <td>4769</td>\n",
              "      <td>1.224150e+04</td>\n",
              "      <td>0.000000e+00</td>\n",
              "    </tr>\n",
              "    <tr>\n",
              "      <th>Iceland</th>\n",
              "      <td>42441700</td>\n",
              "      <td>2458</td>\n",
              "      <td>4.812100e+02</td>\n",
              "      <td>2.247154e+06</td>\n",
              "    </tr>\n",
              "    <tr>\n",
              "      <th>Israel</th>\n",
              "      <td>84117610</td>\n",
              "      <td>4353</td>\n",
              "      <td>1.079040e+03</td>\n",
              "      <td>3.164467e+06</td>\n",
              "    </tr>\n",
              "    <tr>\n",
              "      <th>Italy</th>\n",
              "      <td>234198725</td>\n",
              "      <td>7999</td>\n",
              "      <td>3.879390e+03</td>\n",
              "      <td>1.015666e+07</td>\n",
              "    </tr>\n",
              "    <tr>\n",
              "      <th>Japan</th>\n",
              "      <td>64467057</td>\n",
              "      <td>25218</td>\n",
              "      <td>8.148600e+02</td>\n",
              "      <td>4.567292e+06</td>\n",
              "    </tr>\n",
              "    <tr>\n",
              "      <th>Lebanon</th>\n",
              "      <td>3285315</td>\n",
              "      <td>386</td>\n",
              "      <td>2.424400e+02</td>\n",
              "      <td>5.743800e+05</td>\n",
              "    </tr>\n",
              "    <tr>\n",
              "      <th>Lithuania</th>\n",
              "      <td>291110</td>\n",
              "      <td>652</td>\n",
              "      <td>9.944000e+01</td>\n",
              "      <td>5.366200e+05</td>\n",
              "    </tr>\n",
              "    <tr>\n",
              "      <th>Malta</th>\n",
              "      <td>38804990</td>\n",
              "      <td>944</td>\n",
              "      <td>6.660100e+02</td>\n",
              "      <td>2.158496e+06</td>\n",
              "    </tr>\n",
              "    <tr>\n",
              "      <th>Netherlands</th>\n",
              "      <td>615495058</td>\n",
              "      <td>200128</td>\n",
              "      <td>6.492550e+03</td>\n",
              "      <td>3.419054e+07</td>\n",
              "    </tr>\n",
              "    <tr>\n",
              "      <th>Norway</th>\n",
              "      <td>333235888</td>\n",
              "      <td>19247</td>\n",
              "      <td>6.529060e+03</td>\n",
              "      <td>1.350765e+07</td>\n",
              "    </tr>\n",
              "    <tr>\n",
              "      <th>Poland</th>\n",
              "      <td>83086612</td>\n",
              "      <td>3653</td>\n",
              "      <td>1.422270e+03</td>\n",
              "      <td>4.341972e+06</td>\n",
              "    </tr>\n",
              "    <tr>\n",
              "      <th>Portugal</th>\n",
              "      <td>426407361</td>\n",
              "      <td>16180</td>\n",
              "      <td>1.303754e+04</td>\n",
              "      <td>1.886480e+07</td>\n",
              "    </tr>\n",
              "    <tr>\n",
              "      <th>RSA</th>\n",
              "      <td>22939029</td>\n",
              "      <td>352</td>\n",
              "      <td>2.481000e+02</td>\n",
              "      <td>7.218680e+05</td>\n",
              "    </tr>\n",
              "    <tr>\n",
              "      <th>Saudi Arabia</th>\n",
              "      <td>1015453</td>\n",
              "      <td>75</td>\n",
              "      <td>2.411000e+01</td>\n",
              "      <td>1.256500e+05</td>\n",
              "    </tr>\n",
              "    <tr>\n",
              "      <th>Singapore</th>\n",
              "      <td>47461736</td>\n",
              "      <td>5234</td>\n",
              "      <td>2.510889e+04</td>\n",
              "      <td>2.918376e+06</td>\n",
              "    </tr>\n",
              "    <tr>\n",
              "      <th>Spain</th>\n",
              "      <td>663310426</td>\n",
              "      <td>26824</td>\n",
              "      <td>1.263345e+04</td>\n",
              "      <td>3.268929e+07</td>\n",
              "    </tr>\n",
              "    <tr>\n",
              "      <th>Sweden</th>\n",
              "      <td>122767659</td>\n",
              "      <td>35637</td>\n",
              "      <td>1.806830e+03</td>\n",
              "      <td>6.790083e+06</td>\n",
              "    </tr>\n",
              "    <tr>\n",
              "      <th>Switzerland</th>\n",
              "      <td>560893192</td>\n",
              "      <td>30325</td>\n",
              "      <td>6.813690e+03</td>\n",
              "      <td>2.377592e+07</td>\n",
              "    </tr>\n",
              "    <tr>\n",
              "      <th>USA</th>\n",
              "      <td>115253062</td>\n",
              "      <td>1034</td>\n",
              "      <td>6.449800e+02</td>\n",
              "      <td>3.672086e+06</td>\n",
              "    </tr>\n",
              "    <tr>\n",
              "      <th>United Arab Emirates</th>\n",
              "      <td>14955073</td>\n",
              "      <td>982</td>\n",
              "      <td>2.298900e+02</td>\n",
              "      <td>1.018952e+06</td>\n",
              "    </tr>\n",
              "    <tr>\n",
              "      <th>United Kingdom</th>\n",
              "      <td>134167513468</td>\n",
              "      <td>4263829</td>\n",
              "      <td>2.245715e+06</td>\n",
              "      <td>5.626433e+09</td>\n",
              "    </tr>\n",
              "    <tr>\n",
              "      <th>Unspecified</th>\n",
              "      <td>130113917</td>\n",
              "      <td>3300</td>\n",
              "      <td>1.204010e+03</td>\n",
              "      <td>3.348046e+06</td>\n",
              "    </tr>\n",
              "  </tbody>\n",
              "</table>\n",
              "</div>"
            ],
            "text/plain": [
              "                        Unnamed: 0  Quantity     UnitPrice    CustomerID\n",
              "Country                                                                 \n",
              "Australia                285150021     83653  4.054750e+03  1.569300e+07\n",
              "Austria                  118785389      4827  1.701520e+03  5.021102e+06\n",
              "Bahrain                    3226853       260  8.657000e+01  2.100270e+05\n",
              "Belgium                  572112325     23152  7.540130e+03  2.571829e+07\n",
              "Brazil                     5034064       356  1.426000e+02  4.086080e+05\n",
              "Canada                    36331486      2763  9.105800e+02  2.615483e+06\n",
              "Channel Islands          193815157      9479  3.738550e+03  1.128522e+07\n",
              "Cyprus                   148231860      6317  3.920070e+03  7.715880e+06\n",
              "Czech Republic             7115264       592  8.815000e+01  3.834300e+05\n",
              "Denmark                  117136615      8188  1.266950e+03  4.876734e+06\n",
              "EIRE                    2344255272    142637  4.844719e+04  1.103917e+08\n",
              "European Community        14266523       497  2.940500e+02  9.215880e+05\n",
              "Finland                  178023490     10666  3.786850e+03  8.699324e+06\n",
              "France                  2404742115    110480  4.303199e+04  1.076489e+08\n",
              "Germany                 2535792309    117448  3.766600e+04  1.200751e+08\n",
              "Greece                    34808154      1556  7.132900e+02  2.008584e+06\n",
              "Hong Kong                 61529848      4769  1.224150e+04  0.000000e+00\n",
              "Iceland                   42441700      2458  4.812100e+02  2.247154e+06\n",
              "Israel                    84117610      4353  1.079040e+03  3.164467e+06\n",
              "Italy                    234198725      7999  3.879390e+03  1.015666e+07\n",
              "Japan                     64467057     25218  8.148600e+02  4.567292e+06\n",
              "Lebanon                    3285315       386  2.424400e+02  5.743800e+05\n",
              "Lithuania                   291110       652  9.944000e+01  5.366200e+05\n",
              "Malta                     38804990       944  6.660100e+02  2.158496e+06\n",
              "Netherlands              615495058    200128  6.492550e+03  3.419054e+07\n",
              "Norway                   333235888     19247  6.529060e+03  1.350765e+07\n",
              "Poland                    83086612      3653  1.422270e+03  4.341972e+06\n",
              "Portugal                 426407361     16180  1.303754e+04  1.886480e+07\n",
              "RSA                       22939029       352  2.481000e+02  7.218680e+05\n",
              "Saudi Arabia               1015453        75  2.411000e+01  1.256500e+05\n",
              "Singapore                 47461736      5234  2.510889e+04  2.918376e+06\n",
              "Spain                    663310426     26824  1.263345e+04  3.268929e+07\n",
              "Sweden                   122767659     35637  1.806830e+03  6.790083e+06\n",
              "Switzerland              560893192     30325  6.813690e+03  2.377592e+07\n",
              "USA                      115253062      1034  6.449800e+02  3.672086e+06\n",
              "United Arab Emirates      14955073       982  2.298900e+02  1.018952e+06\n",
              "United Kingdom        134167513468   4263829  2.245715e+06  5.626433e+09\n",
              "Unspecified              130113917      3300  1.204010e+03  3.348046e+06"
            ]
          },
          "metadata": {
            "tags": []
          },
          "execution_count": 66
        }
      ]
    },
    {
      "cell_type": "markdown",
      "metadata": {
        "id": "BRj_Fd_VvfQC",
        "colab_type": "text"
      },
      "source": [
        "El dataframe resultante tiene como columna indice a \"Country\". Por lo tanto, al visualizar un gráfico de barras de la cantidad agregada por país, se obtiene:"
      ]
    },
    {
      "cell_type": "code",
      "metadata": {
        "id": "U5bM28kauxKS",
        "colab_type": "code",
        "colab": {
          "base_uri": "https://localhost:8080/",
          "height": 399
        },
        "outputId": "55c97812-e4fc-475b-e171-1b9e3ef0b282"
      },
      "source": [
        "df.groupby(\"Country\").aggregate(sum)[\"Quantity\"].plot(kind=\"bar\")"
      ],
      "execution_count": 69,
      "outputs": [
        {
          "output_type": "execute_result",
          "data": {
            "text/plain": [
              "<matplotlib.axes._subplots.AxesSubplot at 0x7f0827640da0>"
            ]
          },
          "metadata": {
            "tags": []
          },
          "execution_count": 69
        },
        {
          "output_type": "display_data",
          "data": {
            "image/png": "[encoded data removed]",
            "text/plain": [
              "<Figure size 432x288 with 1 Axes>"
            ]
          },
          "metadata": {
            "tags": []
          }
        }
      ]
    },
    {
      "cell_type": "markdown",
      "metadata": {
        "id": "GyNSY7IDGgC3",
        "colab_type": "text"
      },
      "source": [
        "---\n",
        "\n",
        "#Consulta de Dataframes usando SQL\n",
        "\n",
        "La librería pandasql.\n",
        "\n",
        "[Ir a sitio oficial](https://pypi.org/project/pandasql/)"
      ]
    },
    {
      "cell_type": "markdown",
      "metadata": {
        "id": "HARrv5siAhG1",
        "colab_type": "text"
      },
      "source": [
        "## Intro SQL\n",
        "\n",
        "Mostrar todos los datos de una tabla:\n",
        "\n",
        "```mysql\n",
        "SELECT * FROM table_name;\n",
        "```\n",
        "\n",
        "Query data from the specified column of a table:\n",
        "Mostrar todos los datos, seleccionando una o más columnas:\n",
        "\n",
        "```mysql\n",
        "SELECT c1, c2\n",
        "FROM table_name;\n",
        "```\n",
        "\n",
        "Mostrar solamente valores únicos de una columna:\n",
        "\n",
        "```mysql\n",
        "SELECT DISTINCT (c1)\n",
        "FROM table_name;\n",
        "```\n",
        "\n",
        "Mostrar solamente aquellas filas cuyas columnas satisfacen la condición indicada luego del WHERE:\n",
        "\n",
        "```sql\n",
        "SELECT *\n",
        "FROM table_name\n",
        "WHERE condition;\n",
        "```\n",
        "\n",
        "Uso de alias para renombrar columnas en la consulta:\n",
        "\n",
        "```sql\n",
        "SELECT c1 AS new_name\n",
        "FROM table_name;\n",
        "```\n",
        "\n",
        "Mostrar datos cruzando múltiples tablas mediante el uso de __inner join__ y __left join__\n",
        "\n",
        "```sql\n",
        "SELECT * \n",
        "FROM table_name_1\n",
        "INNER JOIN table_name_2 ON condition;\n",
        "\n",
        "SELECT * \n",
        "FROM table_name_1\n",
        "LEFT JOIN table_name_2 ON condition;\n",
        "```\n",
        "\n",
        "![texto alternativo](https://drive.google.com/uc?export=download&id=1DTg3tBh46vvVeVg85_sOw24YPbgoerSy)\n",
        "\n",
        "Contar la cantidad de filas entregadas por una consulta:\n",
        "\n",
        "```sql\n",
        "SELECT COUNT (*)\n",
        "FROM table_name;\n",
        "```\n",
        "\n",
        "Ordenar las filas especificando también las columnas que serán usadas (instrucciones encerradas entre paréntesis cuadrados son opcionales):\n",
        "\n",
        "```sql\n",
        "SELECT c1, c2\n",
        "FROM table_name\n",
        "ORDER BY c1 ASC [DESC], c2 ASC [DESC],...;\n",
        "```\n",
        "\n",
        "Agrupar filas usando una o más columnas:\n",
        "\n",
        "```sql\n",
        "SELECT *\n",
        "FROM table_name\n",
        "GROUP BY c1, c2, ...;\n",
        "```\n",
        "\n",
        "Filtrar un grupo de filas especificando una condición:\n",
        "\n",
        "```sql\n",
        "SELECT c1, aggregate(c2)\n",
        "FROM table_name\n",
        "GROUP BY c1\n",
        "HAVING condition;\n",
        "```"
      ]
    },
    {
      "cell_type": "code",
      "metadata": {
        "id": "p5HrWFr1vuoE",
        "colab_type": "code",
        "colab": {
          "base_uri": "https://localhost:8080/",
          "height": 276
        },
        "outputId": "8f29fdbb-5f55-4e53-ed88-61884b6f486b"
      },
      "source": [
        "#@title Primero deberemos instalar la librería pandasql\n",
        "!pip install pandasql"
      ],
      "execution_count": 73,
      "outputs": [
        {
          "output_type": "stream",
          "text": [
            "Collecting pandasql\n",
            "  Downloading https://files.pythonhosted.org/packages/6b/c4/ee4096ffa2eeeca0c749b26f0371bd26aa5c8b611c43de99a4f86d3de0a7/pandasql-0.7.3.tar.gz\n",
            "Requirement already satisfied: numpy in /usr/local/lib/python3.6/dist-packages (from pandasql) (1.16.4)\n",
            "Requirement already satisfied: pandas in /usr/local/lib/python3.6/dist-packages (from pandasql) (0.24.2)\n",
            "Requirement already satisfied: sqlalchemy in /usr/local/lib/python3.6/dist-packages (from pandasql) (1.3.4)\n",
            "Requirement already satisfied: python-dateutil>=2.5.0 in /usr/local/lib/python3.6/dist-packages (from pandas->pandasql) (2.5.3)\n",
            "Requirement already satisfied: pytz>=2011k in /usr/local/lib/python3.6/dist-packages (from pandas->pandasql) (2018.9)\n",
            "Requirement already satisfied: six>=1.5 in /usr/local/lib/python3.6/dist-packages (from python-dateutil>=2.5.0->pandas->pandasql) (1.12.0)\n",
            "Building wheels for collected packages: pandasql\n",
            "  Building wheel for pandasql (setup.py) ... \u001b[?25l\u001b[?25hdone\n",
            "  Stored in directory: /root/.cache/pip/wheels/53/6c/18/b87a2e5fa8a82e9c026311de56210b8d1c01846e18a9607fc9\n",
            "Successfully built pandasql\n",
            "Installing collected packages: pandasql\n",
            "Successfully installed pandasql-0.7.3\n"
          ],
          "name": "stdout"
        }
      ]
    },
    {
      "cell_type": "code",
      "metadata": {
        "id": "ipQu_Wf8zqOF",
        "colab_type": "code",
        "colab": {}
      },
      "source": [
        "#@title Luego importar la librería\n",
        "from pandasql import sqldf"
      ],
      "execution_count": 0,
      "outputs": []
    },
    {
      "cell_type": "markdown",
      "metadata": {
        "id": "lDvD0AOl9J9z",
        "colab_type": "text"
      },
      "source": [
        "Pandasql requiere de acceso a otras variables en la sesión. Entonces, cuando se ejecute una consulta, se le deberá entregar también un diccionario con las variables y objetos de la sesión generado a través de la función ```globals()```.  Por ejemplo, para seleccionar las columnas _StockCode_, _Quantity_ y _Country_ de todos los registros del dataframe ```df``` se ejecuta el siguiente código:\n",
        "\n",
        "```python\n",
        "q = \"SELECT StockCode, Quantity, Country FROM df;\"\n",
        "print( sqldf(q, locals()) )\n",
        "```\n",
        "\n",
        "Dado que resultaría mucho más cómodo ejecutar la consulta sin tener que estar llamando a la función ```locals()```, podemos crear la siguiente función auxiliar:\n",
        "\n",
        "```python\n",
        "def pysqldf(q):\n",
        "  return sqldf(q, globals())\n",
        "\n",
        "\n",
        "q = \"SELECT StockCode, Quantity, Country FROM df;\"\n",
        "print( pysqldf(q ) )\n",
        "```"
      ]
    },
    {
      "cell_type": "markdown",
      "metadata": {
        "id": "v0qdjhyi_x3v",
        "colab_type": "text"
      },
      "source": [
        "Cargamos la función recien descrita:"
      ]
    },
    {
      "cell_type": "code",
      "metadata": {
        "id": "NjdKE_Su_xSO",
        "colab_type": "code",
        "colab": {}
      },
      "source": [
        "def pysqldf(q):\n",
        "  return sqldf(q, globals())"
      ],
      "execution_count": 0,
      "outputs": []
    },
    {
      "cell_type": "code",
      "metadata": {
        "id": "xHmy65B79I7M",
        "colab_type": "code",
        "colab": {}
      },
      "source": [
        "pysqldf(\"SELECT * from df WHERE Country = 'Spain'\")"
      ],
      "execution_count": 0,
      "outputs": []
    },
    {
      "cell_type": "markdown",
      "metadata": {
        "id": "_hdCU_-5G8ER",
        "colab_type": "text"
      },
      "source": [
        "### Alineamiento de dos dataframes mediante columnas o atributos en común."
      ]
    },
    {
      "cell_type": "code",
      "metadata": {
        "id": "e3BEXpnU_XfG",
        "colab_type": "code",
        "colab": {}
      },
      "source": [
        "dfA = pd.DataFrame(columns=['A','B','C'])\n",
        "dfA = dfA.append({'A':128, 'B':'##', 'C':23.22}, ignore_index=True)\n",
        "dfA = dfA.append({'A':128, 'B':'??', 'C':11.08}, ignore_index=True)\n",
        "dfA = dfA.append({'A':13, 'B':'::', 'C':03.22}, ignore_index=True)\n",
        "dfA = dfA.append({'A':15, 'B':';;', 'C':17.08}, ignore_index=True)\n",
        "\n",
        "dfB = pd.DataFrame(columns=['A','D'])\n",
        "dfB = dfB.append({'A':128, 'D':'..'}, ignore_index=True)\n",
        "dfB = dfB.append({'A':128, 'D':',,'}, ignore_index=True)\n",
        "dfB = dfB.append({'A':20, 'D':'**'}, ignore_index=True)"
      ],
      "execution_count": 0,
      "outputs": []
    },
    {
      "cell_type": "code",
      "metadata": {
        "id": "PyUMA3N5E-2E",
        "colab_type": "code",
        "colab": {
          "base_uri": "https://localhost:8080/",
          "height": 175
        },
        "outputId": "eef82902-e5e4-44ca-c859-61af2d6a358b"
      },
      "source": [
        "pd.merge(dfA, dfB, on = 'A', how = 'inner', sort = False)"
      ],
      "execution_count": 90,
      "outputs": [
        {
          "output_type": "execute_result",
          "data": {
            "text/html": [
              "<div>\n",
              "<style scoped>\n",
              "    .dataframe tbody tr th:only-of-type {\n",
              "        vertical-align: middle;\n",
              "    }\n",
              "\n",
              "    .dataframe tbody tr th {\n",
              "        vertical-align: top;\n",
              "    }\n",
              "\n",
              "    .dataframe thead th {\n",
              "        text-align: right;\n",
              "    }\n",
              "</style>\n",
              "<table border=\"1\" class=\"dataframe\">\n",
              "  <thead>\n",
              "    <tr style=\"text-align: right;\">\n",
              "      <th></th>\n",
              "      <th>A</th>\n",
              "      <th>B</th>\n",
              "      <th>C</th>\n",
              "      <th>D</th>\n",
              "    </tr>\n",
              "  </thead>\n",
              "  <tbody>\n",
              "    <tr>\n",
              "      <th>0</th>\n",
              "      <td>128</td>\n",
              "      <td>##</td>\n",
              "      <td>23.22</td>\n",
              "      <td>..</td>\n",
              "    </tr>\n",
              "    <tr>\n",
              "      <th>1</th>\n",
              "      <td>128</td>\n",
              "      <td>##</td>\n",
              "      <td>23.22</td>\n",
              "      <td>,,</td>\n",
              "    </tr>\n",
              "    <tr>\n",
              "      <th>2</th>\n",
              "      <td>128</td>\n",
              "      <td>??</td>\n",
              "      <td>11.08</td>\n",
              "      <td>..</td>\n",
              "    </tr>\n",
              "    <tr>\n",
              "      <th>3</th>\n",
              "      <td>128</td>\n",
              "      <td>??</td>\n",
              "      <td>11.08</td>\n",
              "      <td>,,</td>\n",
              "    </tr>\n",
              "  </tbody>\n",
              "</table>\n",
              "</div>"
            ],
            "text/plain": [
              "     A   B      C   D\n",
              "0  128  ##  23.22  ..\n",
              "1  128  ##  23.22  ,,\n",
              "2  128  ??  11.08  ..\n",
              "3  128  ??  11.08  ,,"
            ]
          },
          "metadata": {
            "tags": []
          },
          "execution_count": 90
        }
      ]
    },
    {
      "cell_type": "code",
      "metadata": {
        "id": "-vUH-t0qE_ef",
        "colab_type": "code",
        "colab": {
          "base_uri": "https://localhost:8080/",
          "height": 237
        },
        "outputId": "4e98a6b1-92bd-423c-c351-efa1be767807"
      },
      "source": [
        "pd.merge(dfA, dfB, on = 'A', how = 'left', sort = False)"
      ],
      "execution_count": 91,
      "outputs": [
        {
          "output_type": "execute_result",
          "data": {
            "text/html": [
              "<div>\n",
              "<style scoped>\n",
              "    .dataframe tbody tr th:only-of-type {\n",
              "        vertical-align: middle;\n",
              "    }\n",
              "\n",
              "    .dataframe tbody tr th {\n",
              "        vertical-align: top;\n",
              "    }\n",
              "\n",
              "    .dataframe thead th {\n",
              "        text-align: right;\n",
              "    }\n",
              "</style>\n",
              "<table border=\"1\" class=\"dataframe\">\n",
              "  <thead>\n",
              "    <tr style=\"text-align: right;\">\n",
              "      <th></th>\n",
              "      <th>A</th>\n",
              "      <th>B</th>\n",
              "      <th>C</th>\n",
              "      <th>D</th>\n",
              "    </tr>\n",
              "  </thead>\n",
              "  <tbody>\n",
              "    <tr>\n",
              "      <th>0</th>\n",
              "      <td>128</td>\n",
              "      <td>##</td>\n",
              "      <td>23.22</td>\n",
              "      <td>..</td>\n",
              "    </tr>\n",
              "    <tr>\n",
              "      <th>1</th>\n",
              "      <td>128</td>\n",
              "      <td>##</td>\n",
              "      <td>23.22</td>\n",
              "      <td>,,</td>\n",
              "    </tr>\n",
              "    <tr>\n",
              "      <th>2</th>\n",
              "      <td>128</td>\n",
              "      <td>??</td>\n",
              "      <td>11.08</td>\n",
              "      <td>..</td>\n",
              "    </tr>\n",
              "    <tr>\n",
              "      <th>3</th>\n",
              "      <td>128</td>\n",
              "      <td>??</td>\n",
              "      <td>11.08</td>\n",
              "      <td>,,</td>\n",
              "    </tr>\n",
              "    <tr>\n",
              "      <th>4</th>\n",
              "      <td>13</td>\n",
              "      <td>::</td>\n",
              "      <td>3.22</td>\n",
              "      <td>NaN</td>\n",
              "    </tr>\n",
              "    <tr>\n",
              "      <th>5</th>\n",
              "      <td>15</td>\n",
              "      <td>;;</td>\n",
              "      <td>17.08</td>\n",
              "      <td>NaN</td>\n",
              "    </tr>\n",
              "  </tbody>\n",
              "</table>\n",
              "</div>"
            ],
            "text/plain": [
              "     A   B      C    D\n",
              "0  128  ##  23.22   ..\n",
              "1  128  ##  23.22   ,,\n",
              "2  128  ??  11.08   ..\n",
              "3  128  ??  11.08   ,,\n",
              "4   13  ::   3.22  NaN\n",
              "5   15  ;;  17.08  NaN"
            ]
          },
          "metadata": {
            "tags": []
          },
          "execution_count": 91
        }
      ]
    },
    {
      "cell_type": "code",
      "metadata": {
        "id": "_jfq8NwfFEs0",
        "colab_type": "code",
        "colab": {
          "base_uri": "https://localhost:8080/",
          "height": 109
        },
        "outputId": "b8afd62f-515c-4a74-c202-6ddb69d66b34"
      },
      "source": [
        "#@title Ahora mediante pandasql\n",
        "\n",
        "q = \"SELECT dfA.A, dfA.B, dfA.C, dfB.D FROM dfA INNER JOIN dfB ON dfA.A = dfB.A;\"\n",
        "\n",
        "print(pysqldf(q))"
      ],
      "execution_count": 97,
      "outputs": [
        {
          "output_type": "stream",
          "text": [
            "     A   B      C   D\n",
            "0  128  ##  23.22  ,,\n",
            "1  128  ##  23.22  ..\n",
            "2  128  ??  11.08  ,,\n",
            "3  128  ??  11.08  ..\n"
          ],
          "name": "stdout"
        }
      ]
    },
    {
      "cell_type": "code",
      "metadata": {
        "id": "vo0LSA94Gho6",
        "colab_type": "code",
        "colab": {
          "base_uri": "https://localhost:8080/",
          "height": 146
        },
        "outputId": "6ec92970-4c09-4d07-eada-e843459b89b3"
      },
      "source": [
        "#@title Ahora mediante pandasql\n",
        "\n",
        "q = \"SELECT dfA.A, dfA.B, dfA.C, dfB.D FROM dfA LEFT JOIN dfB ON dfA.A = dfB.A;\"\n",
        "\n",
        "print(pysqldf(q))"
      ],
      "execution_count": 98,
      "outputs": [
        {
          "output_type": "stream",
          "text": [
            "     A   B      C     D\n",
            "0  128  ##  23.22    ,,\n",
            "1  128  ##  23.22    ..\n",
            "2  128  ??  11.08    ,,\n",
            "3  128  ??  11.08    ..\n",
            "4   13  ::   3.22  None\n",
            "5   15  ;;  17.08  None\n"
          ],
          "name": "stdout"
        }
      ]
    }
  ]
}