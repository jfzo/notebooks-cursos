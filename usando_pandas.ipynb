{
  "nbformat": 4,
  "nbformat_minor": 0,
  "metadata": {
    "colab": {
      "name": "usando_pandas.ipynb",
      "version": "0.3.2",
      "provenance": [],
      "collapsed_sections": [],
      "include_colab_link": true
    },
    "kernelspec": {
      "name": "python3",
      "display_name": "Python 3"
    }
  },
  "cells": [
    {
      "cell_type": "markdown",
      "metadata": {
        "id": "view-in-github",
        "colab_type": "text"
      },
      "source": [
        "<a href=\"https://colab.research.google.com/github/jfzo/notebooks-cursos/blob/master/usando_pandas.ipynb\" target=\"_parent\"><img src=\"https://colab.research.google.com/assets/colab-badge.svg\" alt=\"Open In Colab\"/></a>"
      ]
    },
    {
      "cell_type": "markdown",
      "metadata": {
        "id": "bfDEQtbY-ofh",
        "colab_type": "text"
      },
      "source": [
        "# Manejo de datos con Python y Pandas\n",
        "\n",
        "En esta primera parte del módulo, trabajaremos con el siguiente conjunto de datos:\n",
        "\n",
        "![Online retail](https://archive.ics.uci.edu/ml/datasets/Online%20Retail)\n",
        "\n",
        "Citando la descripción original:\n",
        "\n",
        "**Data Set Information:**\n",
        "\n",
        "This is a transnational data set which contains all the transactions occurring between 01/12/2010 and 09/12/2011 for a UK-based and registered non-store online retail.The company mainly sells unique all-occasion gifts. Many customers of the company are wholesalers.\n",
        "\n",
        "**Attribute Information:**\n",
        "\n",
        "| Campo | Descripción |\n",
        "|------|-----|\n",
        "| InvoiceNo: | Invoice number. Nominal, a 6-digit integral number uniquely assigned to each transaction. If this code starts with letter **'c'**, it indicates a cancellation.|\n",
        "|StockCode: | Product (item) code. Nominal, a 5-digit integral number uniquely assigned to each distinct product.|\n",
        "|Description: | Product (item) name. Nominal.|\n",
        "|Quantity: | The quantities of each product (item) per transaction. Numeric.|\n",
        "|InvoiceDate: | Invice Date and time. Numeric, the day and time when each transaction was generated.|\n",
        "|UnitPrice: | Unit price. Numeric, Product price per unit in sterling.|\n",
        "|CustomerID: | Customer number. Nominal, a 5-digit integral number uniquely assigned to each customer.|\n",
        "|Country: | Country name. Nominal, the name of the country where each customer resides. |\n"
      ]
    },
    {
      "cell_type": "code",
      "metadata": {
        "id": "347p4vYCilr6",
        "colab_type": "code",
        "colab": {}
      },
      "source": [
        "#@title Acceso a librería Pandas\n",
        "import pandas as pd"
      ],
      "execution_count": 0,
      "outputs": []
    },
    {
      "cell_type": "markdown",
      "metadata": {
        "id": "PMbDyhqdADX3",
        "colab_type": "text"
      },
      "source": [
        "Es posible cargar la data en un Dataframe a partir de la URL del repositorio:"
      ]
    },
    {
      "cell_type": "code",
      "metadata": {
        "id": "HMeF_xgo9Fxc",
        "colab_type": "code",
        "outputId": "ecc1c71a-5f31-48d6-b6e8-744f48d9c9cb",
        "colab": {
          "base_uri": "https://localhost:8080/",
          "height": 206
        }
      },
      "source": [
        "df = pd.read_excel('http://archive.ics.uci.edu/ml/machine-learning-databases/00352/Online%20Retail.xlsx')\n",
        "df.head()"
      ],
      "execution_count": 0,
      "outputs": [
        {
          "output_type": "execute_result",
          "data": {
            "text/html": [
              "<div>\n",
              "<style scoped>\n",
              "    .dataframe tbody tr th:only-of-type {\n",
              "        vertical-align: middle;\n",
              "    }\n",
              "\n",
              "    .dataframe tbody tr th {\n",
              "        vertical-align: top;\n",
              "    }\n",
              "\n",
              "    .dataframe thead th {\n",
              "        text-align: right;\n",
              "    }\n",
              "</style>\n",
              "<table border=\"1\" class=\"dataframe\">\n",
              "  <thead>\n",
              "    <tr style=\"text-align: right;\">\n",
              "      <th></th>\n",
              "      <th>InvoiceNo</th>\n",
              "      <th>StockCode</th>\n",
              "      <th>Description</th>\n",
              "      <th>Quantity</th>\n",
              "      <th>InvoiceDate</th>\n",
              "      <th>UnitPrice</th>\n",
              "      <th>CustomerID</th>\n",
              "      <th>Country</th>\n",
              "    </tr>\n",
              "  </thead>\n",
              "  <tbody>\n",
              "    <tr>\n",
              "      <th>0</th>\n",
              "      <td>536365</td>\n",
              "      <td>85123A</td>\n",
              "      <td>WHITE HANGING HEART T-LIGHT HOLDER</td>\n",
              "      <td>6</td>\n",
              "      <td>2010-12-01 08:26:00</td>\n",
              "      <td>2.55</td>\n",
              "      <td>17850.0</td>\n",
              "      <td>United Kingdom</td>\n",
              "    </tr>\n",
              "    <tr>\n",
              "      <th>1</th>\n",
              "      <td>536365</td>\n",
              "      <td>71053</td>\n",
              "      <td>WHITE METAL LANTERN</td>\n",
              "      <td>6</td>\n",
              "      <td>2010-12-01 08:26:00</td>\n",
              "      <td>3.39</td>\n",
              "      <td>17850.0</td>\n",
              "      <td>United Kingdom</td>\n",
              "    </tr>\n",
              "    <tr>\n",
              "      <th>2</th>\n",
              "      <td>536365</td>\n",
              "      <td>84406B</td>\n",
              "      <td>CREAM CUPID HEARTS COAT HANGER</td>\n",
              "      <td>8</td>\n",
              "      <td>2010-12-01 08:26:00</td>\n",
              "      <td>2.75</td>\n",
              "      <td>17850.0</td>\n",
              "      <td>United Kingdom</td>\n",
              "    </tr>\n",
              "    <tr>\n",
              "      <th>3</th>\n",
              "      <td>536365</td>\n",
              "      <td>84029G</td>\n",
              "      <td>KNITTED UNION FLAG HOT WATER BOTTLE</td>\n",
              "      <td>6</td>\n",
              "      <td>2010-12-01 08:26:00</td>\n",
              "      <td>3.39</td>\n",
              "      <td>17850.0</td>\n",
              "      <td>United Kingdom</td>\n",
              "    </tr>\n",
              "    <tr>\n",
              "      <th>4</th>\n",
              "      <td>536365</td>\n",
              "      <td>84029E</td>\n",
              "      <td>RED WOOLLY HOTTIE WHITE HEART.</td>\n",
              "      <td>6</td>\n",
              "      <td>2010-12-01 08:26:00</td>\n",
              "      <td>3.39</td>\n",
              "      <td>17850.0</td>\n",
              "      <td>United Kingdom</td>\n",
              "    </tr>\n",
              "  </tbody>\n",
              "</table>\n",
              "</div>"
            ],
            "text/plain": [
              "  InvoiceNo StockCode  ... CustomerID         Country\n",
              "0    536365    85123A  ...    17850.0  United Kingdom\n",
              "1    536365     71053  ...    17850.0  United Kingdom\n",
              "2    536365    84406B  ...    17850.0  United Kingdom\n",
              "3    536365    84029G  ...    17850.0  United Kingdom\n",
              "4    536365    84029E  ...    17850.0  United Kingdom\n",
              "\n",
              "[5 rows x 8 columns]"
            ]
          },
          "metadata": {
            "tags": []
          },
          "execution_count": 25
        }
      ]
    },
    {
      "cell_type": "code",
      "metadata": {
        "id": "KyMmiUy-g95Z",
        "colab_type": "code",
        "outputId": "42790769-caf3-4b09-c597-25aa18986bdd",
        "colab": {
          "base_uri": "https://localhost:8080/",
          "height": 310
        }
      },
      "source": [
        "from google.colab import drive\n",
        "drive.mount('/content/gdrive')\n",
        "\n",
        "df.to_excel('/content/gdrive/My Drive/Colab Notebooks/online_retail.xlsx')"
      ],
      "execution_count": 0,
      "outputs": [
        {
          "output_type": "execute_result",
          "data": {
            "text/html": [
              "<div>\n",
              "<style scoped>\n",
              "    .dataframe tbody tr th:only-of-type {\n",
              "        vertical-align: middle;\n",
              "    }\n",
              "\n",
              "    .dataframe tbody tr th {\n",
              "        vertical-align: top;\n",
              "    }\n",
              "\n",
              "    .dataframe thead th {\n",
              "        text-align: right;\n",
              "    }\n",
              "</style>\n",
              "<table border=\"1\" class=\"dataframe\">\n",
              "  <thead>\n",
              "    <tr style=\"text-align: right;\">\n",
              "      <th></th>\n",
              "      <th>Unnamed: 0</th>\n",
              "      <th>InvoiceNo</th>\n",
              "      <th>StockCode</th>\n",
              "      <th>Description</th>\n",
              "      <th>Quantity</th>\n",
              "      <th>InvoiceDate</th>\n",
              "      <th>UnitPrice</th>\n",
              "      <th>CustomerID</th>\n",
              "      <th>Country</th>\n",
              "    </tr>\n",
              "  </thead>\n",
              "  <tbody>\n",
              "    <tr>\n",
              "      <th>0</th>\n",
              "      <td>0</td>\n",
              "      <td>536365</td>\n",
              "      <td>85123A</td>\n",
              "      <td>WHITE HANGING HEART T-LIGHT HOLDER</td>\n",
              "      <td>6</td>\n",
              "      <td>2010-12-01 08:26:00</td>\n",
              "      <td>2.55</td>\n",
              "      <td>17850.0</td>\n",
              "      <td>United Kingdom</td>\n",
              "    </tr>\n",
              "    <tr>\n",
              "      <th>1</th>\n",
              "      <td>1</td>\n",
              "      <td>536365</td>\n",
              "      <td>71053</td>\n",
              "      <td>WHITE METAL LANTERN</td>\n",
              "      <td>6</td>\n",
              "      <td>2010-12-01 08:26:00</td>\n",
              "      <td>3.39</td>\n",
              "      <td>17850.0</td>\n",
              "      <td>United Kingdom</td>\n",
              "    </tr>\n",
              "    <tr>\n",
              "      <th>2</th>\n",
              "      <td>2</td>\n",
              "      <td>536365</td>\n",
              "      <td>84406B</td>\n",
              "      <td>CREAM CUPID HEARTS COAT HANGER</td>\n",
              "      <td>8</td>\n",
              "      <td>2010-12-01 08:26:00</td>\n",
              "      <td>2.75</td>\n",
              "      <td>17850.0</td>\n",
              "      <td>United Kingdom</td>\n",
              "    </tr>\n",
              "    <tr>\n",
              "      <th>3</th>\n",
              "      <td>3</td>\n",
              "      <td>536365</td>\n",
              "      <td>84029G</td>\n",
              "      <td>KNITTED UNION FLAG HOT WATER BOTTLE</td>\n",
              "      <td>6</td>\n",
              "      <td>2010-12-01 08:26:00</td>\n",
              "      <td>3.39</td>\n",
              "      <td>17850.0</td>\n",
              "      <td>United Kingdom</td>\n",
              "    </tr>\n",
              "    <tr>\n",
              "      <th>4</th>\n",
              "      <td>4</td>\n",
              "      <td>536365</td>\n",
              "      <td>84029E</td>\n",
              "      <td>RED WOOLLY HOTTIE WHITE HEART.</td>\n",
              "      <td>6</td>\n",
              "      <td>2010-12-01 08:26:00</td>\n",
              "      <td>3.39</td>\n",
              "      <td>17850.0</td>\n",
              "      <td>United Kingdom</td>\n",
              "    </tr>\n",
              "  </tbody>\n",
              "</table>\n",
              "</div>"
            ],
            "text/plain": [
              "   Unnamed: 0 InvoiceNo StockCode  ... UnitPrice  CustomerID         Country\n",
              "0           0    536365    85123A  ...      2.55     17850.0  United Kingdom\n",
              "1           1    536365     71053  ...      3.39     17850.0  United Kingdom\n",
              "2           2    536365    84406B  ...      2.75     17850.0  United Kingdom\n",
              "3           3    536365    84029G  ...      3.39     17850.0  United Kingdom\n",
              "4           4    536365    84029E  ...      3.39     17850.0  United Kingdom\n",
              "\n",
              "[5 rows x 9 columns]"
            ]
          },
          "metadata": {
            "tags": []
          },
          "execution_count": 34
        }
      ]
    },
    {
      "cell_type": "markdown",
      "metadata": {
        "id": "P1zclp_-AWTD",
        "colab_type": "text"
      },
      "source": [
        "---\n",
        "\n",
        "También es posible cargar desde Google Drive. Las primeras dos líneas comentadas corresponden a las sentencias usadas para conectarse a su cuenta de Google Drive:"
      ]
    },
    {
      "cell_type": "code",
      "metadata": {
        "id": "T6yE0jHj6_1N",
        "colab_type": "code",
        "outputId": "4dd817a6-40ee-4635-cc0d-66543f19cb7d",
        "colab": {
          "base_uri": "https://localhost:8080/",
          "height": 128
        }
      },
      "source": [
        "from google.colab import drive\n",
        "drive.mount('/content/gdrive')\n",
        "\n",
        "df = pd.read_excel('/content/gdrive/My Drive/Colab Notebooks/online_retail.xlsx')\n",
        "#df.head()"
      ],
      "execution_count": 0,
      "outputs": [
        {
          "output_type": "stream",
          "text": [
            "Go to this URL in a browser: https://accounts.google.com/o/oauth2/auth?client_id=947318989803-6bn6qk8qdgf4n4g3pfee6491hc0brc4i.apps.googleusercontent.com&redirect_uri=urn%3Aietf%3Awg%3Aoauth%3A2.0%3Aoob&scope=email%20https%3A%2F%2Fwww.googleapis.com%2Fauth%2Fdocs.test%20https%3A%2F%2Fwww.googleapis.com%2Fauth%2Fdrive%20https%3A%2F%2Fwww.googleapis.com%2Fauth%2Fdrive.photos.readonly%20https%3A%2F%2Fwww.googleapis.com%2Fauth%2Fpeopleapi.readonly&response_type=code\n",
            "\n",
            "Enter your authorization code:\n",
            "··········\n",
            "Mounted at /content/gdrive\n"
          ],
          "name": "stdout"
        }
      ]
    },
    {
      "cell_type": "markdown",
      "metadata": {
        "id": "xgyo5qQSDpQw",
        "colab_type": "text"
      },
      "source": [
        "Podemos averiguar el tamaño del dataframe con su propiedad ```.shape```\n",
        "\n"
      ]
    },
    {
      "cell_type": "code",
      "metadata": {
        "id": "k3brCMswB7dX",
        "colab_type": "code",
        "outputId": "f74a81cd-1d09-41f3-bb35-d0fd74bdc0a0",
        "colab": {
          "base_uri": "https://localhost:8080/",
          "height": 35
        }
      },
      "source": [
        "df.shape"
      ],
      "execution_count": 0,
      "outputs": [
        {
          "output_type": "execute_result",
          "data": {
            "text/plain": [
              "(541909, 9)"
            ]
          },
          "metadata": {
            "tags": []
          },
          "execution_count": 5
        }
      ]
    },
    {
      "cell_type": "markdown",
      "metadata": {
        "id": "7fkEKzt0kdO_",
        "colab_type": "text"
      },
      "source": [
        "Podemos averiguar el detalle de cada columna del dataframe con su método interno ```.info()```\n"
      ]
    },
    {
      "cell_type": "code",
      "metadata": {
        "id": "6OL2yp9P3omK",
        "colab_type": "code",
        "outputId": "2f279264-e811-4514-8919-196042a3ca15",
        "colab": {
          "base_uri": "https://localhost:8080/",
          "height": 271
        }
      },
      "source": [
        "df.info()"
      ],
      "execution_count": 0,
      "outputs": [
        {
          "output_type": "stream",
          "text": [
            "<class 'pandas.core.frame.DataFrame'>\n",
            "Int64Index: 532621 entries, 0 to 541908\n",
            "Data columns (total 9 columns):\n",
            "Unnamed: 0     532621 non-null int64\n",
            "InvoiceNo      532621 non-null object\n",
            "StockCode      532621 non-null object\n",
            "Description    531166 non-null object\n",
            "Quantity       532621 non-null int64\n",
            "InvoiceDate    532621 non-null datetime64[ns]\n",
            "UnitPrice      532621 non-null float64\n",
            "CustomerID     397924 non-null float64\n",
            "Country        532621 non-null object\n",
            "dtypes: datetime64[ns](1), float64(2), int64(2), object(4)\n",
            "memory usage: 40.6+ MB\n"
          ],
          "name": "stdout"
        }
      ]
    },
    {
      "cell_type": "markdown",
      "metadata": {
        "id": "4o5K7xSwko7q",
        "colab_type": "text"
      },
      "source": [
        ""
      ]
    },
    {
      "cell_type": "code",
      "metadata": {
        "id": "0MuJgl_ODk4S",
        "colab_type": "code",
        "outputId": "d827b57c-00fa-48e2-afe6-fec22fef141d",
        "colab": {
          "base_uri": "https://localhost:8080/",
          "height": 300
        }
      },
      "source": [
        "df.describe()"
      ],
      "execution_count": 0,
      "outputs": [
        {
          "output_type": "execute_result",
          "data": {
            "text/html": [
              "<div>\n",
              "<style scoped>\n",
              "    .dataframe tbody tr th:only-of-type {\n",
              "        vertical-align: middle;\n",
              "    }\n",
              "\n",
              "    .dataframe tbody tr th {\n",
              "        vertical-align: top;\n",
              "    }\n",
              "\n",
              "    .dataframe thead th {\n",
              "        text-align: right;\n",
              "    }\n",
              "</style>\n",
              "<table border=\"1\" class=\"dataframe\">\n",
              "  <thead>\n",
              "    <tr style=\"text-align: right;\">\n",
              "      <th></th>\n",
              "      <th>Unnamed: 0</th>\n",
              "      <th>Quantity</th>\n",
              "      <th>UnitPrice</th>\n",
              "      <th>CustomerID</th>\n",
              "    </tr>\n",
              "  </thead>\n",
              "  <tbody>\n",
              "    <tr>\n",
              "      <th>count</th>\n",
              "      <td>532621.000000</td>\n",
              "      <td>532621.000000</td>\n",
              "      <td>532621.000000</td>\n",
              "      <td>397924.000000</td>\n",
              "    </tr>\n",
              "    <tr>\n",
              "      <th>mean</th>\n",
              "      <td>271182.113612</td>\n",
              "      <td>10.239972</td>\n",
              "      <td>3.847621</td>\n",
              "      <td>15294.315171</td>\n",
              "    </tr>\n",
              "    <tr>\n",
              "      <th>std</th>\n",
              "      <td>156533.716737</td>\n",
              "      <td>159.593551</td>\n",
              "      <td>41.758023</td>\n",
              "      <td>1713.169877</td>\n",
              "    </tr>\n",
              "    <tr>\n",
              "      <th>min</th>\n",
              "      <td>0.000000</td>\n",
              "      <td>-9600.000000</td>\n",
              "      <td>-11062.060000</td>\n",
              "      <td>12346.000000</td>\n",
              "    </tr>\n",
              "    <tr>\n",
              "      <th>25%</th>\n",
              "      <td>135604.000000</td>\n",
              "      <td>1.000000</td>\n",
              "      <td>1.250000</td>\n",
              "      <td>13969.000000</td>\n",
              "    </tr>\n",
              "    <tr>\n",
              "      <th>50%</th>\n",
              "      <td>271292.000000</td>\n",
              "      <td>3.000000</td>\n",
              "      <td>2.080000</td>\n",
              "      <td>15159.000000</td>\n",
              "    </tr>\n",
              "    <tr>\n",
              "      <th>75%</th>\n",
              "      <td>406975.000000</td>\n",
              "      <td>10.000000</td>\n",
              "      <td>4.130000</td>\n",
              "      <td>16795.000000</td>\n",
              "    </tr>\n",
              "    <tr>\n",
              "      <th>max</th>\n",
              "      <td>541908.000000</td>\n",
              "      <td>80995.000000</td>\n",
              "      <td>13541.330000</td>\n",
              "      <td>18287.000000</td>\n",
              "    </tr>\n",
              "  </tbody>\n",
              "</table>\n",
              "</div>"
            ],
            "text/plain": [
              "          Unnamed: 0       Quantity      UnitPrice     CustomerID\n",
              "count  532621.000000  532621.000000  532621.000000  397924.000000\n",
              "mean   271182.113612      10.239972       3.847621   15294.315171\n",
              "std    156533.716737     159.593551      41.758023    1713.169877\n",
              "min         0.000000   -9600.000000  -11062.060000   12346.000000\n",
              "25%    135604.000000       1.000000       1.250000   13969.000000\n",
              "50%    271292.000000       3.000000       2.080000   15159.000000\n",
              "75%    406975.000000      10.000000       4.130000   16795.000000\n",
              "max    541908.000000   80995.000000   13541.330000   18287.000000"
            ]
          },
          "metadata": {
            "tags": []
          },
          "execution_count": 60
        }
      ]
    },
    {
      "cell_type": "code",
      "metadata": {
        "id": "vbWg-s1YD-4d",
        "colab_type": "code",
        "outputId": "874538a9-6a2f-4b3e-fbd1-72313e7c4c62",
        "colab": {
          "base_uri": "https://localhost:8080/",
          "height": 491
        }
      },
      "source": [
        "#@title Visualización de los primeros 8 registros del dataframe\n",
        "df.head(8)"
      ],
      "execution_count": 0,
      "outputs": [
        {
          "output_type": "execute_result",
          "data": {
            "text/html": [
              "<div>\n",
              "<style scoped>\n",
              "    .dataframe tbody tr th:only-of-type {\n",
              "        vertical-align: middle;\n",
              "    }\n",
              "\n",
              "    .dataframe tbody tr th {\n",
              "        vertical-align: top;\n",
              "    }\n",
              "\n",
              "    .dataframe thead th {\n",
              "        text-align: right;\n",
              "    }\n",
              "</style>\n",
              "<table border=\"1\" class=\"dataframe\">\n",
              "  <thead>\n",
              "    <tr style=\"text-align: right;\">\n",
              "      <th></th>\n",
              "      <th>Unnamed: 0</th>\n",
              "      <th>InvoiceNo</th>\n",
              "      <th>StockCode</th>\n",
              "      <th>Description</th>\n",
              "      <th>Quantity</th>\n",
              "      <th>InvoiceDate</th>\n",
              "      <th>UnitPrice</th>\n",
              "      <th>CustomerID</th>\n",
              "      <th>Country</th>\n",
              "    </tr>\n",
              "  </thead>\n",
              "  <tbody>\n",
              "    <tr>\n",
              "      <th>0</th>\n",
              "      <td>0</td>\n",
              "      <td>536365</td>\n",
              "      <td>85123A</td>\n",
              "      <td>WHITE HANGING HEART T-LIGHT HOLDER</td>\n",
              "      <td>6</td>\n",
              "      <td>2010-12-01 08:26:00</td>\n",
              "      <td>2.55</td>\n",
              "      <td>17850.0</td>\n",
              "      <td>United Kingdom</td>\n",
              "    </tr>\n",
              "    <tr>\n",
              "      <th>1</th>\n",
              "      <td>1</td>\n",
              "      <td>536365</td>\n",
              "      <td>71053</td>\n",
              "      <td>WHITE METAL LANTERN</td>\n",
              "      <td>6</td>\n",
              "      <td>2010-12-01 08:26:00</td>\n",
              "      <td>3.39</td>\n",
              "      <td>17850.0</td>\n",
              "      <td>United Kingdom</td>\n",
              "    </tr>\n",
              "    <tr>\n",
              "      <th>2</th>\n",
              "      <td>2</td>\n",
              "      <td>536365</td>\n",
              "      <td>84406B</td>\n",
              "      <td>CREAM CUPID HEARTS COAT HANGER</td>\n",
              "      <td>8</td>\n",
              "      <td>2010-12-01 08:26:00</td>\n",
              "      <td>2.75</td>\n",
              "      <td>17850.0</td>\n",
              "      <td>United Kingdom</td>\n",
              "    </tr>\n",
              "    <tr>\n",
              "      <th>3</th>\n",
              "      <td>3</td>\n",
              "      <td>536365</td>\n",
              "      <td>84029G</td>\n",
              "      <td>KNITTED UNION FLAG HOT WATER BOTTLE</td>\n",
              "      <td>6</td>\n",
              "      <td>2010-12-01 08:26:00</td>\n",
              "      <td>3.39</td>\n",
              "      <td>17850.0</td>\n",
              "      <td>United Kingdom</td>\n",
              "    </tr>\n",
              "    <tr>\n",
              "      <th>4</th>\n",
              "      <td>4</td>\n",
              "      <td>536365</td>\n",
              "      <td>84029E</td>\n",
              "      <td>RED WOOLLY HOTTIE WHITE HEART.</td>\n",
              "      <td>6</td>\n",
              "      <td>2010-12-01 08:26:00</td>\n",
              "      <td>3.39</td>\n",
              "      <td>17850.0</td>\n",
              "      <td>United Kingdom</td>\n",
              "    </tr>\n",
              "    <tr>\n",
              "      <th>5</th>\n",
              "      <td>5</td>\n",
              "      <td>536365</td>\n",
              "      <td>22752</td>\n",
              "      <td>SET 7 BABUSHKA NESTING BOXES</td>\n",
              "      <td>2</td>\n",
              "      <td>2010-12-01 08:26:00</td>\n",
              "      <td>7.65</td>\n",
              "      <td>17850.0</td>\n",
              "      <td>United Kingdom</td>\n",
              "    </tr>\n",
              "    <tr>\n",
              "      <th>6</th>\n",
              "      <td>6</td>\n",
              "      <td>536365</td>\n",
              "      <td>21730</td>\n",
              "      <td>GLASS STAR FROSTED T-LIGHT HOLDER</td>\n",
              "      <td>6</td>\n",
              "      <td>2010-12-01 08:26:00</td>\n",
              "      <td>4.25</td>\n",
              "      <td>17850.0</td>\n",
              "      <td>United Kingdom</td>\n",
              "    </tr>\n",
              "    <tr>\n",
              "      <th>7</th>\n",
              "      <td>7</td>\n",
              "      <td>536366</td>\n",
              "      <td>22633</td>\n",
              "      <td>HAND WARMER UNION JACK</td>\n",
              "      <td>6</td>\n",
              "      <td>2010-12-01 08:28:00</td>\n",
              "      <td>1.85</td>\n",
              "      <td>17850.0</td>\n",
              "      <td>United Kingdom</td>\n",
              "    </tr>\n",
              "  </tbody>\n",
              "</table>\n",
              "</div>"
            ],
            "text/plain": [
              "   Unnamed: 0 InvoiceNo StockCode  ... UnitPrice  CustomerID         Country\n",
              "0           0    536365    85123A  ...      2.55     17850.0  United Kingdom\n",
              "1           1    536365     71053  ...      3.39     17850.0  United Kingdom\n",
              "2           2    536365    84406B  ...      2.75     17850.0  United Kingdom\n",
              "3           3    536365    84029G  ...      3.39     17850.0  United Kingdom\n",
              "4           4    536365    84029E  ...      3.39     17850.0  United Kingdom\n",
              "5           5    536365     22752  ...      7.65     17850.0  United Kingdom\n",
              "6           6    536365     21730  ...      4.25     17850.0  United Kingdom\n",
              "7           7    536366     22633  ...      1.85     17850.0  United Kingdom\n",
              "\n",
              "[8 rows x 9 columns]"
            ]
          },
          "metadata": {
            "tags": []
          },
          "execution_count": 4
        }
      ]
    },
    {
      "cell_type": "code",
      "metadata": {
        "id": "zzuhXdrQGB8D",
        "colab_type": "code",
        "outputId": "9b197123-0ece-46dc-c73a-e74f992f757b",
        "colab": {
          "base_uri": "https://localhost:8080/",
          "height": 300
        }
      },
      "source": [
        "#@title Ordenamiento de los registros según columna *Descripción* \n",
        "df['Description'] = df['Description'].str.strip()\n",
        "df.sort_values(by='Description', ascending=True).head(8)"
      ],
      "execution_count": 0,
      "outputs": [
        {
          "output_type": "execute_result",
          "data": {
            "text/html": [
              "<div>\n",
              "<style scoped>\n",
              "    .dataframe tbody tr th:only-of-type {\n",
              "        vertical-align: middle;\n",
              "    }\n",
              "\n",
              "    .dataframe tbody tr th {\n",
              "        vertical-align: top;\n",
              "    }\n",
              "\n",
              "    .dataframe thead th {\n",
              "        text-align: right;\n",
              "    }\n",
              "</style>\n",
              "<table border=\"1\" class=\"dataframe\">\n",
              "  <thead>\n",
              "    <tr style=\"text-align: right;\">\n",
              "      <th></th>\n",
              "      <th>Unnamed: 0</th>\n",
              "      <th>InvoiceNo</th>\n",
              "      <th>StockCode</th>\n",
              "      <th>Description</th>\n",
              "      <th>Quantity</th>\n",
              "      <th>InvoiceDate</th>\n",
              "      <th>UnitPrice</th>\n",
              "      <th>CustomerID</th>\n",
              "      <th>Country</th>\n",
              "    </tr>\n",
              "  </thead>\n",
              "  <tbody>\n",
              "    <tr>\n",
              "      <th>20749</th>\n",
              "      <td>20749</td>\n",
              "      <td>538071</td>\n",
              "      <td>21120</td>\n",
              "      <td>*Boombox Ipod Classic</td>\n",
              "      <td>1</td>\n",
              "      <td>2010-12-09 14:09:00</td>\n",
              "      <td>16.98</td>\n",
              "      <td>NaN</td>\n",
              "      <td>United Kingdom</td>\n",
              "    </tr>\n",
              "    <tr>\n",
              "      <th>35675</th>\n",
              "      <td>35675</td>\n",
              "      <td>539437</td>\n",
              "      <td>20954</td>\n",
              "      <td>*USB Office Mirror Ball</td>\n",
              "      <td>1</td>\n",
              "      <td>2010-12-17 14:54:00</td>\n",
              "      <td>8.47</td>\n",
              "      <td>NaN</td>\n",
              "      <td>United Kingdom</td>\n",
              "    </tr>\n",
              "    <tr>\n",
              "      <th>37095</th>\n",
              "      <td>37095</td>\n",
              "      <td>539453</td>\n",
              "      <td>20954</td>\n",
              "      <td>*USB Office Mirror Ball</td>\n",
              "      <td>1</td>\n",
              "      <td>2010-12-17 17:08:00</td>\n",
              "      <td>8.47</td>\n",
              "      <td>NaN</td>\n",
              "      <td>United Kingdom</td>\n",
              "    </tr>\n",
              "    <tr>\n",
              "      <th>394482</th>\n",
              "      <td>394482</td>\n",
              "      <td>570872</td>\n",
              "      <td>22418</td>\n",
              "      <td>10 COLOUR SPACEBOY PEN</td>\n",
              "      <td>1</td>\n",
              "      <td>2011-10-12 16:40:00</td>\n",
              "      <td>1.63</td>\n",
              "      <td>NaN</td>\n",
              "      <td>United Kingdom</td>\n",
              "    </tr>\n",
              "    <tr>\n",
              "      <th>381759</th>\n",
              "      <td>381759</td>\n",
              "      <td>569893</td>\n",
              "      <td>22418</td>\n",
              "      <td>10 COLOUR SPACEBOY PEN</td>\n",
              "      <td>24</td>\n",
              "      <td>2011-10-06 15:51:00</td>\n",
              "      <td>0.85</td>\n",
              "      <td>12627.0</td>\n",
              "      <td>Germany</td>\n",
              "    </tr>\n",
              "    <tr>\n",
              "      <th>152701</th>\n",
              "      <td>152701</td>\n",
              "      <td>549682</td>\n",
              "      <td>22418</td>\n",
              "      <td>10 COLOUR SPACEBOY PEN</td>\n",
              "      <td>24</td>\n",
              "      <td>2011-04-11 13:22:00</td>\n",
              "      <td>0.85</td>\n",
              "      <td>12596.0</td>\n",
              "      <td>Spain</td>\n",
              "    </tr>\n",
              "    <tr>\n",
              "      <th>20498</th>\n",
              "      <td>20498</td>\n",
              "      <td>538057</td>\n",
              "      <td>22418</td>\n",
              "      <td>10 COLOUR SPACEBOY PEN</td>\n",
              "      <td>24</td>\n",
              "      <td>2010-12-09 13:38:00</td>\n",
              "      <td>0.85</td>\n",
              "      <td>13102.0</td>\n",
              "      <td>United Kingdom</td>\n",
              "    </tr>\n",
              "    <tr>\n",
              "      <th>470060</th>\n",
              "      <td>470060</td>\n",
              "      <td>576617</td>\n",
              "      <td>22418</td>\n",
              "      <td>10 COLOUR SPACEBOY PEN</td>\n",
              "      <td>2</td>\n",
              "      <td>2011-11-15 16:57:00</td>\n",
              "      <td>1.63</td>\n",
              "      <td>NaN</td>\n",
              "      <td>United Kingdom</td>\n",
              "    </tr>\n",
              "  </tbody>\n",
              "</table>\n",
              "</div>"
            ],
            "text/plain": [
              "        Unnamed: 0 InvoiceNo StockCode  ... UnitPrice  CustomerID         Country\n",
              "20749        20749    538071     21120  ...     16.98         NaN  United Kingdom\n",
              "35675        35675    539437     20954  ...      8.47         NaN  United Kingdom\n",
              "37095        37095    539453     20954  ...      8.47         NaN  United Kingdom\n",
              "394482      394482    570872     22418  ...      1.63         NaN  United Kingdom\n",
              "381759      381759    569893     22418  ...      0.85     12627.0         Germany\n",
              "152701      152701    549682     22418  ...      0.85     12596.0           Spain\n",
              "20498        20498    538057     22418  ...      0.85     13102.0  United Kingdom\n",
              "470060      470060    576617     22418  ...      1.63         NaN  United Kingdom\n",
              "\n",
              "[8 rows x 9 columns]"
            ]
          },
          "metadata": {
            "tags": []
          },
          "execution_count": 11
        }
      ]
    },
    {
      "cell_type": "code",
      "metadata": {
        "id": "V2eYu2tLtlkX",
        "colab_type": "code",
        "outputId": "36b25eae-0e03-44c7-c220-8de5d9e741a1",
        "colab": {
          "base_uri": "https://localhost:8080/",
          "height": 206
        }
      },
      "source": [
        "#@title Considerando únicamente los campos tipo *object*\n",
        "df.select_dtypes(include=['object']).head() #.copy() en lugar de .head() genera una copia del Dataframe"
      ],
      "execution_count": 0,
      "outputs": [
        {
          "output_type": "execute_result",
          "data": {
            "text/html": [
              "<div>\n",
              "<style scoped>\n",
              "    .dataframe tbody tr th:only-of-type {\n",
              "        vertical-align: middle;\n",
              "    }\n",
              "\n",
              "    .dataframe tbody tr th {\n",
              "        vertical-align: top;\n",
              "    }\n",
              "\n",
              "    .dataframe thead th {\n",
              "        text-align: right;\n",
              "    }\n",
              "</style>\n",
              "<table border=\"1\" class=\"dataframe\">\n",
              "  <thead>\n",
              "    <tr style=\"text-align: right;\">\n",
              "      <th></th>\n",
              "      <th>InvoiceNo</th>\n",
              "      <th>StockCode</th>\n",
              "      <th>Description</th>\n",
              "      <th>Country</th>\n",
              "    </tr>\n",
              "  </thead>\n",
              "  <tbody>\n",
              "    <tr>\n",
              "      <th>0</th>\n",
              "      <td>536365</td>\n",
              "      <td>85123A</td>\n",
              "      <td>WHITE HANGING HEART T-LIGHT HOLDER</td>\n",
              "      <td>United Kingdom</td>\n",
              "    </tr>\n",
              "    <tr>\n",
              "      <th>1</th>\n",
              "      <td>536365</td>\n",
              "      <td>71053</td>\n",
              "      <td>WHITE METAL LANTERN</td>\n",
              "      <td>United Kingdom</td>\n",
              "    </tr>\n",
              "    <tr>\n",
              "      <th>2</th>\n",
              "      <td>536365</td>\n",
              "      <td>84406B</td>\n",
              "      <td>CREAM CUPID HEARTS COAT HANGER</td>\n",
              "      <td>United Kingdom</td>\n",
              "    </tr>\n",
              "    <tr>\n",
              "      <th>3</th>\n",
              "      <td>536365</td>\n",
              "      <td>84029G</td>\n",
              "      <td>KNITTED UNION FLAG HOT WATER BOTTLE</td>\n",
              "      <td>United Kingdom</td>\n",
              "    </tr>\n",
              "    <tr>\n",
              "      <th>4</th>\n",
              "      <td>536365</td>\n",
              "      <td>84029E</td>\n",
              "      <td>RED WOOLLY HOTTIE WHITE HEART.</td>\n",
              "      <td>United Kingdom</td>\n",
              "    </tr>\n",
              "  </tbody>\n",
              "</table>\n",
              "</div>"
            ],
            "text/plain": [
              "  InvoiceNo StockCode                          Description         Country\n",
              "0    536365    85123A   WHITE HANGING HEART T-LIGHT HOLDER  United Kingdom\n",
              "1    536365     71053                  WHITE METAL LANTERN  United Kingdom\n",
              "2    536365    84406B       CREAM CUPID HEARTS COAT HANGER  United Kingdom\n",
              "3    536365    84029G  KNITTED UNION FLAG HOT WATER BOTTLE  United Kingdom\n",
              "4    536365    84029E       RED WOOLLY HOTTIE WHITE HEART.  United Kingdom"
            ]
          },
          "metadata": {
            "tags": []
          },
          "execution_count": 16
        }
      ]
    },
    {
      "cell_type": "code",
      "metadata": {
        "id": "Ey-mf28X68H9",
        "colab_type": "code",
        "outputId": "e011d8c0-d609-4014-cc61-37df0c3922fa",
        "colab": {
          "base_uri": "https://localhost:8080/",
          "height": 310
        }
      },
      "source": [
        "#@title Considerando solo aquellas filas cuya columna *Country* coincida con *France*:\n",
        "df[df[\"Country\"] == \"France\"].head()"
      ],
      "execution_count": 0,
      "outputs": [
        {
          "output_type": "execute_result",
          "data": {
            "text/html": [
              "<div>\n",
              "<style scoped>\n",
              "    .dataframe tbody tr th:only-of-type {\n",
              "        vertical-align: middle;\n",
              "    }\n",
              "\n",
              "    .dataframe tbody tr th {\n",
              "        vertical-align: top;\n",
              "    }\n",
              "\n",
              "    .dataframe thead th {\n",
              "        text-align: right;\n",
              "    }\n",
              "</style>\n",
              "<table border=\"1\" class=\"dataframe\">\n",
              "  <thead>\n",
              "    <tr style=\"text-align: right;\">\n",
              "      <th></th>\n",
              "      <th>Unnamed: 0</th>\n",
              "      <th>InvoiceNo</th>\n",
              "      <th>StockCode</th>\n",
              "      <th>Description</th>\n",
              "      <th>Quantity</th>\n",
              "      <th>InvoiceDate</th>\n",
              "      <th>UnitPrice</th>\n",
              "      <th>CustomerID</th>\n",
              "      <th>Country</th>\n",
              "    </tr>\n",
              "  </thead>\n",
              "  <tbody>\n",
              "    <tr>\n",
              "      <th>26</th>\n",
              "      <td>26</td>\n",
              "      <td>536370</td>\n",
              "      <td>22728</td>\n",
              "      <td>ALARM CLOCK BAKELIKE PINK</td>\n",
              "      <td>24</td>\n",
              "      <td>2010-12-01 08:45:00</td>\n",
              "      <td>3.75</td>\n",
              "      <td>12583.0</td>\n",
              "      <td>France</td>\n",
              "    </tr>\n",
              "    <tr>\n",
              "      <th>27</th>\n",
              "      <td>27</td>\n",
              "      <td>536370</td>\n",
              "      <td>22727</td>\n",
              "      <td>ALARM CLOCK BAKELIKE RED</td>\n",
              "      <td>24</td>\n",
              "      <td>2010-12-01 08:45:00</td>\n",
              "      <td>3.75</td>\n",
              "      <td>12583.0</td>\n",
              "      <td>France</td>\n",
              "    </tr>\n",
              "    <tr>\n",
              "      <th>28</th>\n",
              "      <td>28</td>\n",
              "      <td>536370</td>\n",
              "      <td>22726</td>\n",
              "      <td>ALARM CLOCK BAKELIKE GREEN</td>\n",
              "      <td>12</td>\n",
              "      <td>2010-12-01 08:45:00</td>\n",
              "      <td>3.75</td>\n",
              "      <td>12583.0</td>\n",
              "      <td>France</td>\n",
              "    </tr>\n",
              "    <tr>\n",
              "      <th>29</th>\n",
              "      <td>29</td>\n",
              "      <td>536370</td>\n",
              "      <td>21724</td>\n",
              "      <td>PANDA AND BUNNIES STICKER SHEET</td>\n",
              "      <td>12</td>\n",
              "      <td>2010-12-01 08:45:00</td>\n",
              "      <td>0.85</td>\n",
              "      <td>12583.0</td>\n",
              "      <td>France</td>\n",
              "    </tr>\n",
              "    <tr>\n",
              "      <th>30</th>\n",
              "      <td>30</td>\n",
              "      <td>536370</td>\n",
              "      <td>21883</td>\n",
              "      <td>STARS GIFT TAPE</td>\n",
              "      <td>24</td>\n",
              "      <td>2010-12-01 08:45:00</td>\n",
              "      <td>0.65</td>\n",
              "      <td>12583.0</td>\n",
              "      <td>France</td>\n",
              "    </tr>\n",
              "  </tbody>\n",
              "</table>\n",
              "</div>"
            ],
            "text/plain": [
              "    Unnamed: 0 InvoiceNo StockCode  ... UnitPrice  CustomerID Country\n",
              "26          26    536370     22728  ...      3.75     12583.0  France\n",
              "27          27    536370     22727  ...      3.75     12583.0  France\n",
              "28          28    536370     22726  ...      3.75     12583.0  France\n",
              "29          29    536370     21724  ...      0.85     12583.0  France\n",
              "30          30    536370     21883  ...      0.65     12583.0  France\n",
              "\n",
              "[5 rows x 9 columns]"
            ]
          },
          "metadata": {
            "tags": []
          },
          "execution_count": 17
        }
      ]
    },
    {
      "cell_type": "code",
      "metadata": {
        "id": "iaIU_74DGQZ7",
        "colab_type": "code",
        "outputId": "fcd50ded-cbd2-4efd-8b30-5a6773723eb0",
        "colab": {
          "base_uri": "https://localhost:8080/",
          "height": 588
        }
      },
      "source": [
        "#@title Otra manera de filtrar, pero usando más de un valor de búsqueda:\n",
        "df[df.Country.isin(['France','Spain'])].sort_values(by='Country', ascending=True).tail(10)"
      ],
      "execution_count": 0,
      "outputs": [
        {
          "output_type": "execute_result",
          "data": {
            "text/html": [
              "<div>\n",
              "<style scoped>\n",
              "    .dataframe tbody tr th:only-of-type {\n",
              "        vertical-align: middle;\n",
              "    }\n",
              "\n",
              "    .dataframe tbody tr th {\n",
              "        vertical-align: top;\n",
              "    }\n",
              "\n",
              "    .dataframe thead th {\n",
              "        text-align: right;\n",
              "    }\n",
              "</style>\n",
              "<table border=\"1\" class=\"dataframe\">\n",
              "  <thead>\n",
              "    <tr style=\"text-align: right;\">\n",
              "      <th></th>\n",
              "      <th>Unnamed: 0</th>\n",
              "      <th>InvoiceNo</th>\n",
              "      <th>StockCode</th>\n",
              "      <th>Description</th>\n",
              "      <th>Quantity</th>\n",
              "      <th>InvoiceDate</th>\n",
              "      <th>UnitPrice</th>\n",
              "      <th>CustomerID</th>\n",
              "      <th>Country</th>\n",
              "    </tr>\n",
              "  </thead>\n",
              "  <tbody>\n",
              "    <tr>\n",
              "      <th>315729</th>\n",
              "      <td>315729</td>\n",
              "      <td>564734</td>\n",
              "      <td>47590B</td>\n",
              "      <td>PINK HAPPY BIRTHDAY BUNTING</td>\n",
              "      <td>4</td>\n",
              "      <td>2011-08-28 13:32:00</td>\n",
              "      <td>5.45</td>\n",
              "      <td>12484.0</td>\n",
              "      <td>Spain</td>\n",
              "    </tr>\n",
              "    <tr>\n",
              "      <th>315728</th>\n",
              "      <td>315728</td>\n",
              "      <td>564734</td>\n",
              "      <td>47566</td>\n",
              "      <td>PARTY BUNTING</td>\n",
              "      <td>3</td>\n",
              "      <td>2011-08-28 13:32:00</td>\n",
              "      <td>4.95</td>\n",
              "      <td>12484.0</td>\n",
              "      <td>Spain</td>\n",
              "    </tr>\n",
              "    <tr>\n",
              "      <th>315727</th>\n",
              "      <td>315727</td>\n",
              "      <td>564734</td>\n",
              "      <td>23298</td>\n",
              "      <td>SPOTTY BUNTING</td>\n",
              "      <td>3</td>\n",
              "      <td>2011-08-28 13:32:00</td>\n",
              "      <td>4.95</td>\n",
              "      <td>12484.0</td>\n",
              "      <td>Spain</td>\n",
              "    </tr>\n",
              "    <tr>\n",
              "      <th>315726</th>\n",
              "      <td>315726</td>\n",
              "      <td>564734</td>\n",
              "      <td>47566B</td>\n",
              "      <td>TEA TIME PARTY BUNTING</td>\n",
              "      <td>3</td>\n",
              "      <td>2011-08-28 13:32:00</td>\n",
              "      <td>4.95</td>\n",
              "      <td>12484.0</td>\n",
              "      <td>Spain</td>\n",
              "    </tr>\n",
              "    <tr>\n",
              "      <th>315725</th>\n",
              "      <td>315725</td>\n",
              "      <td>564734</td>\n",
              "      <td>47590A</td>\n",
              "      <td>BLUE HAPPY BIRTHDAY BUNTING</td>\n",
              "      <td>4</td>\n",
              "      <td>2011-08-28 13:32:00</td>\n",
              "      <td>5.45</td>\n",
              "      <td>12484.0</td>\n",
              "      <td>Spain</td>\n",
              "    </tr>\n",
              "    <tr>\n",
              "      <th>315724</th>\n",
              "      <td>315724</td>\n",
              "      <td>564734</td>\n",
              "      <td>22384</td>\n",
              "      <td>LUNCH BAG PINK POLKADOT</td>\n",
              "      <td>4</td>\n",
              "      <td>2011-08-28 13:32:00</td>\n",
              "      <td>1.65</td>\n",
              "      <td>12484.0</td>\n",
              "      <td>Spain</td>\n",
              "    </tr>\n",
              "    <tr>\n",
              "      <th>315723</th>\n",
              "      <td>315723</td>\n",
              "      <td>564734</td>\n",
              "      <td>21625</td>\n",
              "      <td>VINTAGE UNION JACK APRON</td>\n",
              "      <td>1</td>\n",
              "      <td>2011-08-28 13:32:00</td>\n",
              "      <td>6.95</td>\n",
              "      <td>12484.0</td>\n",
              "      <td>Spain</td>\n",
              "    </tr>\n",
              "    <tr>\n",
              "      <th>315722</th>\n",
              "      <td>315722</td>\n",
              "      <td>564734</td>\n",
              "      <td>22611</td>\n",
              "      <td>VINTAGE UNION JACK SHOPPING BAG</td>\n",
              "      <td>1</td>\n",
              "      <td>2011-08-28 13:32:00</td>\n",
              "      <td>4.95</td>\n",
              "      <td>12484.0</td>\n",
              "      <td>Spain</td>\n",
              "    </tr>\n",
              "    <tr>\n",
              "      <th>414283</th>\n",
              "      <td>414283</td>\n",
              "      <td>572442</td>\n",
              "      <td>22739</td>\n",
              "      <td>RIBBON REEL CHRISTMAS SOCK BAUBLE</td>\n",
              "      <td>10</td>\n",
              "      <td>2011-10-24 12:09:00</td>\n",
              "      <td>1.65</td>\n",
              "      <td>12546.0</td>\n",
              "      <td>Spain</td>\n",
              "    </tr>\n",
              "    <tr>\n",
              "      <th>248794</th>\n",
              "      <td>248794</td>\n",
              "      <td>558871</td>\n",
              "      <td>21243</td>\n",
              "      <td>PINK  POLKADOT PLATE</td>\n",
              "      <td>32</td>\n",
              "      <td>2011-07-04 13:19:00</td>\n",
              "      <td>1.69</td>\n",
              "      <td>12557.0</td>\n",
              "      <td>Spain</td>\n",
              "    </tr>\n",
              "  </tbody>\n",
              "</table>\n",
              "</div>"
            ],
            "text/plain": [
              "        Unnamed: 0 InvoiceNo StockCode  ... UnitPrice  CustomerID Country\n",
              "315729      315729    564734    47590B  ...      5.45     12484.0   Spain\n",
              "315728      315728    564734     47566  ...      4.95     12484.0   Spain\n",
              "315727      315727    564734     23298  ...      4.95     12484.0   Spain\n",
              "315726      315726    564734    47566B  ...      4.95     12484.0   Spain\n",
              "315725      315725    564734    47590A  ...      5.45     12484.0   Spain\n",
              "315724      315724    564734     22384  ...      1.65     12484.0   Spain\n",
              "315723      315723    564734     21625  ...      6.95     12484.0   Spain\n",
              "315722      315722    564734     22611  ...      4.95     12484.0   Spain\n",
              "414283      414283    572442     22739  ...      1.65     12546.0   Spain\n",
              "248794      248794    558871     21243  ...      1.69     12557.0   Spain\n",
              "\n",
              "[10 rows x 9 columns]"
            ]
          },
          "metadata": {
            "tags": []
          },
          "execution_count": 18
        }
      ]
    },
    {
      "cell_type": "code",
      "metadata": {
        "id": "dD-yMZSH7e15",
        "colab_type": "code",
        "outputId": "0ab712ac-674f-4cc6-cd33-5324571facdb",
        "colab": {
          "base_uri": "https://localhost:8080/",
          "height": 310
        }
      },
      "source": [
        "#@title Otra manera de filtrar, pero usando condiciones sobre más de una columna:\n",
        "df[(df[\"InvoiceDate\"] < '2011-09-01') & (df[\"InvoiceDate\"] > '2011-01-01')].head()"
      ],
      "execution_count": 0,
      "outputs": [
        {
          "output_type": "execute_result",
          "data": {
            "text/html": [
              "<div>\n",
              "<style scoped>\n",
              "    .dataframe tbody tr th:only-of-type {\n",
              "        vertical-align: middle;\n",
              "    }\n",
              "\n",
              "    .dataframe tbody tr th {\n",
              "        vertical-align: top;\n",
              "    }\n",
              "\n",
              "    .dataframe thead th {\n",
              "        text-align: right;\n",
              "    }\n",
              "</style>\n",
              "<table border=\"1\" class=\"dataframe\">\n",
              "  <thead>\n",
              "    <tr style=\"text-align: right;\">\n",
              "      <th></th>\n",
              "      <th>Unnamed: 0</th>\n",
              "      <th>InvoiceNo</th>\n",
              "      <th>StockCode</th>\n",
              "      <th>Description</th>\n",
              "      <th>Quantity</th>\n",
              "      <th>InvoiceDate</th>\n",
              "      <th>UnitPrice</th>\n",
              "      <th>CustomerID</th>\n",
              "      <th>Country</th>\n",
              "    </tr>\n",
              "  </thead>\n",
              "  <tbody>\n",
              "    <tr>\n",
              "      <th>42481</th>\n",
              "      <td>42481</td>\n",
              "      <td>539993</td>\n",
              "      <td>22386</td>\n",
              "      <td>JUMBO BAG PINK POLKADOT</td>\n",
              "      <td>10</td>\n",
              "      <td>2011-01-04 10:00:00</td>\n",
              "      <td>1.95</td>\n",
              "      <td>13313.0</td>\n",
              "      <td>United Kingdom</td>\n",
              "    </tr>\n",
              "    <tr>\n",
              "      <th>42482</th>\n",
              "      <td>42482</td>\n",
              "      <td>539993</td>\n",
              "      <td>21499</td>\n",
              "      <td>BLUE POLKADOT WRAP</td>\n",
              "      <td>25</td>\n",
              "      <td>2011-01-04 10:00:00</td>\n",
              "      <td>0.42</td>\n",
              "      <td>13313.0</td>\n",
              "      <td>United Kingdom</td>\n",
              "    </tr>\n",
              "    <tr>\n",
              "      <th>42483</th>\n",
              "      <td>42483</td>\n",
              "      <td>539993</td>\n",
              "      <td>21498</td>\n",
              "      <td>RED RETROSPOT WRAP</td>\n",
              "      <td>25</td>\n",
              "      <td>2011-01-04 10:00:00</td>\n",
              "      <td>0.42</td>\n",
              "      <td>13313.0</td>\n",
              "      <td>United Kingdom</td>\n",
              "    </tr>\n",
              "    <tr>\n",
              "      <th>42484</th>\n",
              "      <td>42484</td>\n",
              "      <td>539993</td>\n",
              "      <td>22379</td>\n",
              "      <td>RECYCLING BAG RETROSPOT</td>\n",
              "      <td>5</td>\n",
              "      <td>2011-01-04 10:00:00</td>\n",
              "      <td>2.10</td>\n",
              "      <td>13313.0</td>\n",
              "      <td>United Kingdom</td>\n",
              "    </tr>\n",
              "    <tr>\n",
              "      <th>42485</th>\n",
              "      <td>42485</td>\n",
              "      <td>539993</td>\n",
              "      <td>20718</td>\n",
              "      <td>RED RETROSPOT SHOPPER BAG</td>\n",
              "      <td>10</td>\n",
              "      <td>2011-01-04 10:00:00</td>\n",
              "      <td>1.25</td>\n",
              "      <td>13313.0</td>\n",
              "      <td>United Kingdom</td>\n",
              "    </tr>\n",
              "  </tbody>\n",
              "</table>\n",
              "</div>"
            ],
            "text/plain": [
              "       Unnamed: 0 InvoiceNo StockCode  ... UnitPrice  CustomerID         Country\n",
              "42481       42481    539993     22386  ...      1.95     13313.0  United Kingdom\n",
              "42482       42482    539993     21499  ...      0.42     13313.0  United Kingdom\n",
              "42483       42483    539993     21498  ...      0.42     13313.0  United Kingdom\n",
              "42484       42484    539993     22379  ...      2.10     13313.0  United Kingdom\n",
              "42485       42485    539993     20718  ...      1.25     13313.0  United Kingdom\n",
              "\n",
              "[5 rows x 9 columns]"
            ]
          },
          "metadata": {
            "tags": []
          },
          "execution_count": 32
        }
      ]
    },
    {
      "cell_type": "markdown",
      "metadata": {
        "id": "VjGaUBluM7ku",
        "colab_type": "text"
      },
      "source": [
        "----\n",
        "### Selección de columnas"
      ]
    },
    {
      "cell_type": "code",
      "metadata": {
        "id": "bxyb44R-JAqW",
        "colab_type": "code",
        "outputId": "ce5dbc47-e5f0-4a05-8ab6-588e6f418151",
        "colab": {
          "base_uri": "https://localhost:8080/",
          "height": 126
        }
      },
      "source": [
        "df[\"UnitPrice\"].head()"
      ],
      "execution_count": 0,
      "outputs": [
        {
          "output_type": "execute_result",
          "data": {
            "text/plain": [
              "0    2.55\n",
              "1    3.39\n",
              "2    2.75\n",
              "3    3.39\n",
              "4    3.39\n",
              "Name: UnitPrice, dtype: float64"
            ]
          },
          "metadata": {
            "tags": []
          },
          "execution_count": 9
        }
      ]
    },
    {
      "cell_type": "markdown",
      "metadata": {
        "id": "UhDtShUyOKPu",
        "colab_type": "text"
      },
      "source": [
        "### Selección de filas (registros)"
      ]
    },
    {
      "cell_type": "code",
      "metadata": {
        "id": "7-bQwHSyOKg_",
        "colab_type": "code",
        "outputId": "bc4eabe9-976e-42f9-afe3-b32a68bbefa7",
        "colab": {
          "base_uri": "https://localhost:8080/",
          "height": 237
        }
      },
      "source": [
        "df[4:10]"
      ],
      "execution_count": 0,
      "outputs": [
        {
          "output_type": "execute_result",
          "data": {
            "text/html": [
              "<div>\n",
              "<style scoped>\n",
              "    .dataframe tbody tr th:only-of-type {\n",
              "        vertical-align: middle;\n",
              "    }\n",
              "\n",
              "    .dataframe tbody tr th {\n",
              "        vertical-align: top;\n",
              "    }\n",
              "\n",
              "    .dataframe thead th {\n",
              "        text-align: right;\n",
              "    }\n",
              "</style>\n",
              "<table border=\"1\" class=\"dataframe\">\n",
              "  <thead>\n",
              "    <tr style=\"text-align: right;\">\n",
              "      <th></th>\n",
              "      <th>Unnamed: 0</th>\n",
              "      <th>InvoiceNo</th>\n",
              "      <th>StockCode</th>\n",
              "      <th>Description</th>\n",
              "      <th>Quantity</th>\n",
              "      <th>InvoiceDate</th>\n",
              "      <th>UnitPrice</th>\n",
              "      <th>CustomerID</th>\n",
              "      <th>Country</th>\n",
              "    </tr>\n",
              "  </thead>\n",
              "  <tbody>\n",
              "    <tr>\n",
              "      <th>4</th>\n",
              "      <td>4</td>\n",
              "      <td>536365</td>\n",
              "      <td>84029E</td>\n",
              "      <td>RED WOOLLY HOTTIE WHITE HEART.</td>\n",
              "      <td>6</td>\n",
              "      <td>2010-12-01 08:26:00</td>\n",
              "      <td>3.39</td>\n",
              "      <td>17850.0</td>\n",
              "      <td>United Kingdom</td>\n",
              "    </tr>\n",
              "    <tr>\n",
              "      <th>5</th>\n",
              "      <td>5</td>\n",
              "      <td>536365</td>\n",
              "      <td>22752</td>\n",
              "      <td>SET 7 BABUSHKA NESTING BOXES</td>\n",
              "      <td>2</td>\n",
              "      <td>2010-12-01 08:26:00</td>\n",
              "      <td>7.65</td>\n",
              "      <td>17850.0</td>\n",
              "      <td>United Kingdom</td>\n",
              "    </tr>\n",
              "    <tr>\n",
              "      <th>6</th>\n",
              "      <td>6</td>\n",
              "      <td>536365</td>\n",
              "      <td>21730</td>\n",
              "      <td>GLASS STAR FROSTED T-LIGHT HOLDER</td>\n",
              "      <td>6</td>\n",
              "      <td>2010-12-01 08:26:00</td>\n",
              "      <td>4.25</td>\n",
              "      <td>17850.0</td>\n",
              "      <td>United Kingdom</td>\n",
              "    </tr>\n",
              "    <tr>\n",
              "      <th>7</th>\n",
              "      <td>7</td>\n",
              "      <td>536366</td>\n",
              "      <td>22633</td>\n",
              "      <td>HAND WARMER UNION JACK</td>\n",
              "      <td>6</td>\n",
              "      <td>2010-12-01 08:28:00</td>\n",
              "      <td>1.85</td>\n",
              "      <td>17850.0</td>\n",
              "      <td>United Kingdom</td>\n",
              "    </tr>\n",
              "    <tr>\n",
              "      <th>8</th>\n",
              "      <td>8</td>\n",
              "      <td>536366</td>\n",
              "      <td>22632</td>\n",
              "      <td>HAND WARMER RED POLKA DOT</td>\n",
              "      <td>6</td>\n",
              "      <td>2010-12-01 08:28:00</td>\n",
              "      <td>1.85</td>\n",
              "      <td>17850.0</td>\n",
              "      <td>United Kingdom</td>\n",
              "    </tr>\n",
              "    <tr>\n",
              "      <th>9</th>\n",
              "      <td>9</td>\n",
              "      <td>536367</td>\n",
              "      <td>84879</td>\n",
              "      <td>ASSORTED COLOUR BIRD ORNAMENT</td>\n",
              "      <td>32</td>\n",
              "      <td>2010-12-01 08:34:00</td>\n",
              "      <td>1.69</td>\n",
              "      <td>13047.0</td>\n",
              "      <td>United Kingdom</td>\n",
              "    </tr>\n",
              "  </tbody>\n",
              "</table>\n",
              "</div>"
            ],
            "text/plain": [
              "   Unnamed: 0 InvoiceNo StockCode  ... UnitPrice  CustomerID         Country\n",
              "4           4    536365    84029E  ...      3.39     17850.0  United Kingdom\n",
              "5           5    536365     22752  ...      7.65     17850.0  United Kingdom\n",
              "6           6    536365     21730  ...      4.25     17850.0  United Kingdom\n",
              "7           7    536366     22633  ...      1.85     17850.0  United Kingdom\n",
              "8           8    536366     22632  ...      1.85     17850.0  United Kingdom\n",
              "9           9    536367     84879  ...      1.69     13047.0  United Kingdom\n",
              "\n",
              "[6 rows x 9 columns]"
            ]
          },
          "metadata": {
            "tags": []
          },
          "execution_count": 14
        }
      ]
    },
    {
      "cell_type": "markdown",
      "metadata": {
        "id": "VGvRzeeEOLEC",
        "colab_type": "text"
      },
      "source": [
        "### Selección de filas y columnas"
      ]
    },
    {
      "cell_type": "code",
      "metadata": {
        "id": "WicgIINLOLNF",
        "colab_type": "code",
        "outputId": "bfeeb044-2956-459c-f190-c034d7d57f7a",
        "colab": {
          "base_uri": "https://localhost:8080/",
          "height": 217
        }
      },
      "source": [
        "df[\"UnitPrice\"][:10]"
      ],
      "execution_count": 0,
      "outputs": [
        {
          "output_type": "execute_result",
          "data": {
            "text/plain": [
              "0    2.55\n",
              "1    3.39\n",
              "2    2.75\n",
              "3    3.39\n",
              "4    3.39\n",
              "5    7.65\n",
              "6    4.25\n",
              "7    1.85\n",
              "8    1.85\n",
              "9    1.69\n",
              "Name: UnitPrice, dtype: float64"
            ]
          },
          "metadata": {
            "tags": []
          },
          "execution_count": 13
        }
      ]
    },
    {
      "cell_type": "markdown",
      "metadata": {
        "id": "qsc5iuVxPVc0",
        "colab_type": "text"
      },
      "source": [
        "## Selección de multiples columnas"
      ]
    },
    {
      "cell_type": "code",
      "metadata": {
        "id": "wU4PI9SQPb4k",
        "colab_type": "code",
        "outputId": "84490465-3e03-4c0c-a19a-577b16b52cd3",
        "colab": {
          "base_uri": "https://localhost:8080/",
          "height": 206
        }
      },
      "source": [
        "df[[\"InvoiceNo\",\"UnitPrice\"]][:5]"
      ],
      "execution_count": 0,
      "outputs": [
        {
          "output_type": "execute_result",
          "data": {
            "text/html": [
              "<div>\n",
              "<style scoped>\n",
              "    .dataframe tbody tr th:only-of-type {\n",
              "        vertical-align: middle;\n",
              "    }\n",
              "\n",
              "    .dataframe tbody tr th {\n",
              "        vertical-align: top;\n",
              "    }\n",
              "\n",
              "    .dataframe thead th {\n",
              "        text-align: right;\n",
              "    }\n",
              "</style>\n",
              "<table border=\"1\" class=\"dataframe\">\n",
              "  <thead>\n",
              "    <tr style=\"text-align: right;\">\n",
              "      <th></th>\n",
              "      <th>InvoiceNo</th>\n",
              "      <th>UnitPrice</th>\n",
              "    </tr>\n",
              "  </thead>\n",
              "  <tbody>\n",
              "    <tr>\n",
              "      <th>0</th>\n",
              "      <td>536365</td>\n",
              "      <td>2.55</td>\n",
              "    </tr>\n",
              "    <tr>\n",
              "      <th>1</th>\n",
              "      <td>536365</td>\n",
              "      <td>3.39</td>\n",
              "    </tr>\n",
              "    <tr>\n",
              "      <th>2</th>\n",
              "      <td>536365</td>\n",
              "      <td>2.75</td>\n",
              "    </tr>\n",
              "    <tr>\n",
              "      <th>3</th>\n",
              "      <td>536365</td>\n",
              "      <td>3.39</td>\n",
              "    </tr>\n",
              "    <tr>\n",
              "      <th>4</th>\n",
              "      <td>536365</td>\n",
              "      <td>3.39</td>\n",
              "    </tr>\n",
              "  </tbody>\n",
              "</table>\n",
              "</div>"
            ],
            "text/plain": [
              "  InvoiceNo  UnitPrice\n",
              "0    536365       2.55\n",
              "1    536365       3.39\n",
              "2    536365       2.75\n",
              "3    536365       3.39\n",
              "4    536365       3.39"
            ]
          },
          "metadata": {
            "tags": []
          },
          "execution_count": 15
        }
      ]
    },
    {
      "cell_type": "markdown",
      "metadata": {
        "id": "Os-wuH9_P1pz",
        "colab_type": "text"
      },
      "source": [
        "## Contabilización de valores en una columna"
      ]
    },
    {
      "cell_type": "code",
      "metadata": {
        "id": "rrv-5UEYPfS9",
        "colab_type": "code",
        "outputId": "7bb40038-7040-4477-b63b-484796320d84",
        "colab": {
          "base_uri": "https://localhost:8080/",
          "height": 726
        }
      },
      "source": [
        "df[\"Country\"].value_counts()"
      ],
      "execution_count": 0,
      "outputs": [
        {
          "output_type": "execute_result",
          "data": {
            "text/plain": [
              "United Kingdom          495478\n",
              "Germany                   9495\n",
              "France                    8557\n",
              "EIRE                      8196\n",
              "Spain                     2533\n",
              "Netherlands               2371\n",
              "Belgium                   2069\n",
              "Switzerland               2002\n",
              "Portugal                  1519\n",
              "Australia                 1259\n",
              "Norway                    1086\n",
              "Italy                      803\n",
              "Channel Islands            758\n",
              "Finland                    695\n",
              "Cyprus                     622\n",
              "Sweden                     462\n",
              "Unspecified                446\n",
              "Austria                    401\n",
              "Denmark                    389\n",
              "Japan                      358\n",
              "Poland                     341\n",
              "Israel                     297\n",
              "USA                        291\n",
              "Hong Kong                  288\n",
              "Singapore                  229\n",
              "Iceland                    182\n",
              "Canada                     151\n",
              "Greece                     146\n",
              "Malta                      127\n",
              "United Arab Emirates        68\n",
              "European Community          61\n",
              "RSA                         58\n",
              "Lebanon                     45\n",
              "Lithuania                   35\n",
              "Brazil                      32\n",
              "Czech Republic              30\n",
              "Bahrain                     19\n",
              "Saudi Arabia                10\n",
              "Name: Country, dtype: int64"
            ]
          },
          "metadata": {
            "tags": []
          },
          "execution_count": 16
        }
      ]
    },
    {
      "cell_type": "markdown",
      "metadata": {
        "id": "hqUbN9ApQ_S8",
        "colab_type": "text"
      },
      "source": [
        "Algo interesante"
      ]
    },
    {
      "cell_type": "code",
      "metadata": {
        "id": "MAoImSxpQ-B9",
        "colab_type": "code",
        "outputId": "d085baef-b7ea-40d6-c502-d8c5d2c688e7",
        "colab": {
          "base_uri": "https://localhost:8080/",
          "height": 357
        }
      },
      "source": [
        "df[\"Country\"].value_counts()[:10].plot(kind='bar')"
      ],
      "execution_count": 0,
      "outputs": [
        {
          "output_type": "execute_result",
          "data": {
            "text/plain": [
              "<matplotlib.axes._subplots.AxesSubplot at 0x7f0827ae0be0>"
            ]
          },
          "metadata": {
            "tags": []
          },
          "execution_count": 20
        },
        {
          "output_type": "display_data",
          "data": {
            "image/png": "[encoded data removed]",
            "text/plain": [
              "<Figure size 432x288 with 1 Axes>"
            ]
          },
          "metadata": {
            "tags": []
          }
        }
      ]
    },
    {
      "cell_type": "markdown",
      "metadata": {
        "id": "2J2-B5dORfdl",
        "colab_type": "text"
      },
      "source": [
        "## Filtrando filas por criterios en columnas"
      ]
    },
    {
      "cell_type": "code",
      "metadata": {
        "id": "bl26463XQ-lL",
        "colab_type": "code",
        "colab": {
          "base_uri": "https://localhost:8080/",
          "height": 126
        },
        "outputId": "49ffdb2a-c851-4774-e849-9607b7a0fd75"
      },
      "source": [
        "#@title Primero: El uso de un operador booleano genera una serie de valores booleanos con un valor por fila.\n",
        "regs_ = df[\"UnitPrice\"] > 3\n",
        "regs_.head()"
      ],
      "execution_count": 26,
      "outputs": [
        {
          "output_type": "execute_result",
          "data": {
            "text/plain": [
              "0    False\n",
              "1     True\n",
              "2    False\n",
              "3     True\n",
              "4     True\n",
              "Name: UnitPrice, dtype: bool"
            ]
          },
          "metadata": {
            "tags": []
          },
          "execution_count": 26
        }
      ]
    },
    {
      "cell_type": "markdown",
      "metadata": {
        "id": "IbIVukobWdrd",
        "colab_type": "text"
      },
      "source": [
        "Al usar la serie de valores booleanos con el dataframe obtendremos las filas en donde la serie tenía un valor ```True```."
      ]
    },
    {
      "cell_type": "code",
      "metadata": {
        "id": "eXkU2tyiWeDv",
        "colab_type": "code",
        "colab": {
          "base_uri": "https://localhost:8080/",
          "height": 206
        },
        "outputId": "2de5cc05-6b50-4dff-aa71-db45f22e4653"
      },
      "source": [
        "df[regs_].head()"
      ],
      "execution_count": 27,
      "outputs": [
        {
          "output_type": "execute_result",
          "data": {
            "text/html": [
              "<div>\n",
              "<style scoped>\n",
              "    .dataframe tbody tr th:only-of-type {\n",
              "        vertical-align: middle;\n",
              "    }\n",
              "\n",
              "    .dataframe tbody tr th {\n",
              "        vertical-align: top;\n",
              "    }\n",
              "\n",
              "    .dataframe thead th {\n",
              "        text-align: right;\n",
              "    }\n",
              "</style>\n",
              "<table border=\"1\" class=\"dataframe\">\n",
              "  <thead>\n",
              "    <tr style=\"text-align: right;\">\n",
              "      <th></th>\n",
              "      <th>Unnamed: 0</th>\n",
              "      <th>InvoiceNo</th>\n",
              "      <th>StockCode</th>\n",
              "      <th>Description</th>\n",
              "      <th>Quantity</th>\n",
              "      <th>InvoiceDate</th>\n",
              "      <th>UnitPrice</th>\n",
              "      <th>CustomerID</th>\n",
              "      <th>Country</th>\n",
              "    </tr>\n",
              "  </thead>\n",
              "  <tbody>\n",
              "    <tr>\n",
              "      <th>1</th>\n",
              "      <td>1</td>\n",
              "      <td>536365</td>\n",
              "      <td>71053</td>\n",
              "      <td>WHITE METAL LANTERN</td>\n",
              "      <td>6</td>\n",
              "      <td>2010-12-01 08:26:00</td>\n",
              "      <td>3.39</td>\n",
              "      <td>17850.0</td>\n",
              "      <td>United Kingdom</td>\n",
              "    </tr>\n",
              "    <tr>\n",
              "      <th>3</th>\n",
              "      <td>3</td>\n",
              "      <td>536365</td>\n",
              "      <td>84029G</td>\n",
              "      <td>KNITTED UNION FLAG HOT WATER BOTTLE</td>\n",
              "      <td>6</td>\n",
              "      <td>2010-12-01 08:26:00</td>\n",
              "      <td>3.39</td>\n",
              "      <td>17850.0</td>\n",
              "      <td>United Kingdom</td>\n",
              "    </tr>\n",
              "    <tr>\n",
              "      <th>4</th>\n",
              "      <td>4</td>\n",
              "      <td>536365</td>\n",
              "      <td>84029E</td>\n",
              "      <td>RED WOOLLY HOTTIE WHITE HEART.</td>\n",
              "      <td>6</td>\n",
              "      <td>2010-12-01 08:26:00</td>\n",
              "      <td>3.39</td>\n",
              "      <td>17850.0</td>\n",
              "      <td>United Kingdom</td>\n",
              "    </tr>\n",
              "    <tr>\n",
              "      <th>5</th>\n",
              "      <td>5</td>\n",
              "      <td>536365</td>\n",
              "      <td>22752</td>\n",
              "      <td>SET 7 BABUSHKA NESTING BOXES</td>\n",
              "      <td>2</td>\n",
              "      <td>2010-12-01 08:26:00</td>\n",
              "      <td>7.65</td>\n",
              "      <td>17850.0</td>\n",
              "      <td>United Kingdom</td>\n",
              "    </tr>\n",
              "    <tr>\n",
              "      <th>6</th>\n",
              "      <td>6</td>\n",
              "      <td>536365</td>\n",
              "      <td>21730</td>\n",
              "      <td>GLASS STAR FROSTED T-LIGHT HOLDER</td>\n",
              "      <td>6</td>\n",
              "      <td>2010-12-01 08:26:00</td>\n",
              "      <td>4.25</td>\n",
              "      <td>17850.0</td>\n",
              "      <td>United Kingdom</td>\n",
              "    </tr>\n",
              "  </tbody>\n",
              "</table>\n",
              "</div>"
            ],
            "text/plain": [
              "   Unnamed: 0 InvoiceNo StockCode  ... UnitPrice  CustomerID         Country\n",
              "1           1    536365     71053  ...      3.39     17850.0  United Kingdom\n",
              "3           3    536365    84029G  ...      3.39     17850.0  United Kingdom\n",
              "4           4    536365    84029E  ...      3.39     17850.0  United Kingdom\n",
              "5           5    536365     22752  ...      7.65     17850.0  United Kingdom\n",
              "6           6    536365     21730  ...      4.25     17850.0  United Kingdom\n",
              "\n",
              "[5 rows x 9 columns]"
            ]
          },
          "metadata": {
            "tags": []
          },
          "execution_count": 27
        }
      ]
    },
    {
      "cell_type": "markdown",
      "metadata": {
        "id": "Vy3Wsj_kXd3y",
        "colab_type": "text"
      },
      "source": [
        "Es posible agregar más condiciones al filtro usando el operador ```&``` "
      ]
    },
    {
      "cell_type": "code",
      "metadata": {
        "id": "RyiSYX4gXeI7",
        "colab_type": "code",
        "colab": {
          "base_uri": "https://localhost:8080/",
          "height": 206
        },
        "outputId": "40ff912a-4d0d-4ecd-b2d1-2475db955a6a"
      },
      "source": [
        "regs_precio = df[\"UnitPrice\"] > 3\n",
        "regs_pais = df[\"Country\"] == \"Spain\"\n",
        "df[regs_precio & regs_pais].head()"
      ],
      "execution_count": 28,
      "outputs": [
        {
          "output_type": "execute_result",
          "data": {
            "text/html": [
              "<div>\n",
              "<style scoped>\n",
              "    .dataframe tbody tr th:only-of-type {\n",
              "        vertical-align: middle;\n",
              "    }\n",
              "\n",
              "    .dataframe tbody tr th {\n",
              "        vertical-align: top;\n",
              "    }\n",
              "\n",
              "    .dataframe thead th {\n",
              "        text-align: right;\n",
              "    }\n",
              "</style>\n",
              "<table border=\"1\" class=\"dataframe\">\n",
              "  <thead>\n",
              "    <tr style=\"text-align: right;\">\n",
              "      <th></th>\n",
              "      <th>Unnamed: 0</th>\n",
              "      <th>InvoiceNo</th>\n",
              "      <th>StockCode</th>\n",
              "      <th>Description</th>\n",
              "      <th>Quantity</th>\n",
              "      <th>InvoiceDate</th>\n",
              "      <th>UnitPrice</th>\n",
              "      <th>CustomerID</th>\n",
              "      <th>Country</th>\n",
              "    </tr>\n",
              "  </thead>\n",
              "  <tbody>\n",
              "    <tr>\n",
              "      <th>21565</th>\n",
              "      <td>21565</td>\n",
              "      <td>538095</td>\n",
              "      <td>22504</td>\n",
              "      <td>CABIN BAG VINTAGE RETROSPOT</td>\n",
              "      <td>1</td>\n",
              "      <td>2010-12-09 14:55:00</td>\n",
              "      <td>29.95</td>\n",
              "      <td>17097.0</td>\n",
              "      <td>Spain</td>\n",
              "    </tr>\n",
              "    <tr>\n",
              "      <th>21571</th>\n",
              "      <td>21571</td>\n",
              "      <td>538095</td>\n",
              "      <td>22796</td>\n",
              "      <td>PHOTO FRAME 3 CLASSIC HANGING</td>\n",
              "      <td>2</td>\n",
              "      <td>2010-12-09 14:55:00</td>\n",
              "      <td>9.95</td>\n",
              "      <td>17097.0</td>\n",
              "      <td>Spain</td>\n",
              "    </tr>\n",
              "    <tr>\n",
              "      <th>21577</th>\n",
              "      <td>21577</td>\n",
              "      <td>538095</td>\n",
              "      <td>47566</td>\n",
              "      <td>PARTY BUNTING</td>\n",
              "      <td>1</td>\n",
              "      <td>2010-12-09 14:55:00</td>\n",
              "      <td>4.65</td>\n",
              "      <td>17097.0</td>\n",
              "      <td>Spain</td>\n",
              "    </tr>\n",
              "    <tr>\n",
              "      <th>21579</th>\n",
              "      <td>21579</td>\n",
              "      <td>538095</td>\n",
              "      <td>21430</td>\n",
              "      <td>SET/3 RED GINGHAM ROSE STORAGE BOX</td>\n",
              "      <td>1</td>\n",
              "      <td>2010-12-09 14:55:00</td>\n",
              "      <td>3.75</td>\n",
              "      <td>17097.0</td>\n",
              "      <td>Spain</td>\n",
              "    </tr>\n",
              "    <tr>\n",
              "      <th>21580</th>\n",
              "      <td>21580</td>\n",
              "      <td>538095</td>\n",
              "      <td>22914</td>\n",
              "      <td>BLUE COAT RACK PARIS FASHION</td>\n",
              "      <td>1</td>\n",
              "      <td>2010-12-09 14:55:00</td>\n",
              "      <td>4.95</td>\n",
              "      <td>17097.0</td>\n",
              "      <td>Spain</td>\n",
              "    </tr>\n",
              "  </tbody>\n",
              "</table>\n",
              "</div>"
            ],
            "text/plain": [
              "       Unnamed: 0 InvoiceNo StockCode  ... UnitPrice  CustomerID Country\n",
              "21565       21565    538095     22504  ...     29.95     17097.0   Spain\n",
              "21571       21571    538095     22796  ...      9.95     17097.0   Spain\n",
              "21577       21577    538095     47566  ...      4.65     17097.0   Spain\n",
              "21579       21579    538095     21430  ...      3.75     17097.0   Spain\n",
              "21580       21580    538095     22914  ...      4.95     17097.0   Spain\n",
              "\n",
              "[5 rows x 9 columns]"
            ]
          },
          "metadata": {
            "tags": []
          },
          "execution_count": 28
        }
      ]
    },
    {
      "cell_type": "markdown",
      "metadata": {
        "id": "GyNSY7IDGgC3",
        "colab_type": "text"
      },
      "source": [
        "---"
      ]
    },
    {
      "cell_type": "markdown",
      "metadata": {
        "id": "s89ri_20A3bD",
        "colab_type": "text"
      },
      "source": [
        "There is a little cleanup, we need to do. First, some of the descriptions have spaces that need to be removed. We’ll also drop the rows that don’t have invoice numbers and remove the credit transactions (those with invoice numbers containing C).\n",
        "\n",
        "**Primero** debemos hacer algo de limpieza:\n",
        "\n",
        "1. Eliminación de espacios extra en las descripciones.\n",
        "2. Eliminar aquellas fileas que no tienen número de Invoice.\n",
        "3. Quitar \n"
      ]
    },
    {
      "cell_type": "code",
      "metadata": {
        "id": "u9Nvf3JhhpCS",
        "colab_type": "code",
        "colab": {}
      },
      "source": [
        "df['Description'] = df['Description'].str.strip()\n",
        "df.dropna(axis=0, subset=['InvoiceNo'], inplace=True)\n",
        "df['InvoiceNo'] = df['InvoiceNo'].astype('str')\n",
        "df = df[~df['InvoiceNo'].str.contains('C')]"
      ],
      "execution_count": 0,
      "outputs": []
    }
  ]
}